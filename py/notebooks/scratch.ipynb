{
 "cells": [
  {
   "cell_type": "code",
   "execution_count": 1,
   "id": "7b20281e",
   "metadata": {},
   "outputs": [],
   "source": [
    "import pandas as pd\n",
    "\n",
    "from selenium import webdriver\n",
    "from selenium.webdriver.common.by import By\n",
    "from selenium.webdriver.support.ui import WebDriverWait\n",
    "from selenium.webdriver.support import expected_conditions as EC\n",
    "\n",
    "from bs4 import BeautifulSoup\n",
    "import requests\n",
    "\n",
    "from datetime import datetime\n",
    "from typing import Tuple\n",
    "import re\n",
    "from random import random\n",
    "from io import StringIO\n",
    "\n",
    "from tqdm.notebook import tqdm"
   ]
  },
  {
   "cell_type": "markdown",
   "id": "4a28620d",
   "metadata": {},
   "source": [
    "## Get profs"
   ]
  },
  {
   "cell_type": "code",
   "execution_count": null,
   "id": "2362dcc8",
   "metadata": {},
   "outputs": [],
   "source": [
    "page = requests.get(\"https://stat.wisc.edu/people-main-faculty/\")\n",
    "soup = BeautifulSoup(page.content, \"html.parser\")\n",
    "faculty = soup.find_all(\"a\", {\"class\": \"faculty-name\"})\n",
    "[\n",
    "    f\"{name[1]} {name[0]}\"\n",
    "    for name in [\n",
    "        prof.text.replace(\"\\n\", \"\").strip().split(\", \")\n",
    "        for prof in faculty\n",
    "    ]\n",
    "]"
   ]
  },
  {
   "cell_type": "markdown",
   "id": "444b208d",
   "metadata": {},
   "source": [
    "## Get salary data"
   ]
  },
  {
   "cell_type": "code",
   "execution_count": null,
   "id": "5247c54f",
   "metadata": {},
   "outputs": [],
   "source": [
    "def scrape_my_professor(prof_name: Tuple[str, str]):\n",
    "    \"\"\"\n",
    "    prof_name should be in Last, First order.\n",
    "    \"\"\"\n",
    "    with webdriver.Firefox() as driver:\n",
    "        if prof_name[1].startswith(\"Ric\"):\n",
    "            first_name = \"Richard\"\n",
    "        else:\n",
    "            first_name = prof_name[1]\n",
    "        driver.get(f'https://madison.com/uw-salary-database/html_e37ff025-9a87-5a31-91ea-b2eb50aba4cb.html#2018-uw-salaries/?view_20_page=1&view_20_filters=%5B%7B%22value%22:%22{first_name}%20{prof_name[0]}%22,%22field%22:%22field_104%22,%22operator%22:%22contains%22%7D,%7B%22field%22:%22field_106%22,%22operator%22:%22is%22,%22value%22:%22UW%20Madison%22%7D%5D&view_20_sort=field_107%7Cdesc')\n",
    "        table = driver.find_element(By.XPATH, '//*[@id=\"view_20\"]/div[2]/table')\n",
    "        table_text = table.text.replace(\"Fiscal year\\nName\\nTitle\\nDept Description\\nCampus\\nStart Date\\nTotal Pay\\nDetails\\n\", \"\")\n",
    "    if table_text == \"No Data\":\n",
    "        return []\n",
    "    else:\n",
    "        return [\n",
    "            string_parser(row, prof_name)\n",
    "            for row in\n",
    "            table_text.split(\"\\n\")\n",
    "        ]\n",
    "\n",
    "def string_parser(salary_string: str, prof_name: Tuple[str, str]) -> dict:\n",
    "    name_match = re.search(f\"{prof_name[1][0]}.*{prof_name[0]}\", salary_string)\n",
    "    dept_match = re.search(\"Professor.+/.+UW\", salary_string)\n",
    "    date_match = re.search(\"\\d{2}/\\d{2}/\\d{4}\", salary_string)\n",
    "    return {\n",
    "        \"Fiscal year\": int(salary_string[:name_match.span()[0]].strip()),\n",
    "        \"Name\": name_match.group(0),\n",
    "        \"Title\": salary_string[name_match.span()[1]:dept_match.span()[0] + 9].strip(),\n",
    "        \"Dept Description\": dept_match.group(0).replace(\"Professor \", \"\").replace(\" UW\", \"\"),\n",
    "        \"Campus\": salary_string[dept_match.span()[1] - 2:date_match.span()[0]].strip(),\n",
    "        \"Start Date\": datetime.strptime(date_match.group(0), \"%m/%d/%Y\"),\n",
    "        \"Total Pay\": float(salary_string[date_match.span()[1]:].strip().replace(\"$\", \"\").replace(\",\", \"\").replace(\" view\", \"\"))\n",
    "    }"
   ]
  },
  {
   "cell_type": "code",
   "execution_count": null,
   "id": "b96a3402",
   "metadata": {},
   "outputs": [],
   "source": [
    "stats_dept = []\n",
    "cache = faculty\n",
    "while len(cache) > 0:\n",
    "    for prof in tqdm(cache):\n",
    "        try:\n",
    "            stats_dept += scrape_my_professor(prof)\n",
    "            cache.remove(prof)\n",
    "        except AttributeError as ex:\n",
    "            print(ex)\n",
    "            cache.remove(prof)\n",
    "            continue\n",
    "        except Exception as ex:\n",
    "            print(ex)\n",
    "            continue\n",
    "    print(cache)"
   ]
  },
  {
   "cell_type": "code",
   "execution_count": null,
   "id": "c92197fc",
   "metadata": {},
   "outputs": [],
   "source": [
    "pd.DataFrame(stats_dept)"
   ]
  },
  {
   "cell_type": "markdown",
   "id": "8c4a1d28",
   "metadata": {},
   "source": [
    "## Get all salaries"
   ]
  },
  {
   "cell_type": "code",
   "execution_count": 2,
   "id": "05d3f2dc",
   "metadata": {},
   "outputs": [],
   "source": [
    "cache = [\n",
    "    i + 1\n",
    "    for i in range(114)\n",
    "]"
   ]
  },
  {
   "cell_type": "code",
   "execution_count": 3,
   "id": "57b9124f",
   "metadata": {},
   "outputs": [
    {
     "data": {
      "application/vnd.jupyter.widget-view+json": {
       "model_id": "e96b72dc2ce4408e8dff10be68ab6821",
       "version_major": 2,
       "version_minor": 0
      },
      "text/plain": [
       "  0%|          | 0/114 [00:00<?, ?it/s]"
      ]
     },
     "metadata": {},
     "output_type": "display_data"
    },
    {
     "name": "stdout",
     "output_type": "stream",
     "text": [
      "Message: Unable to locate element: //*[@id=\"view_20\"]/div[2]/table\n",
      "Stacktrace:\n",
      "RemoteError@chrome://remote/content/shared/RemoteError.jsm:12:1\n",
      "WebDriverError@chrome://remote/content/shared/webdriver/Errors.jsm:192:5\n",
      "NoSuchElementError@chrome://remote/content/shared/webdriver/Errors.jsm:404:5\n",
      "element.find/</<@chrome://remote/content/marionette/element.js:291:16\n",
      "\n",
      "Message: Unable to locate element: //*[@id=\"view_20\"]/div[2]/table\n",
      "Stacktrace:\n",
      "RemoteError@chrome://remote/content/shared/RemoteError.jsm:12:1\n",
      "WebDriverError@chrome://remote/content/shared/webdriver/Errors.jsm:192:5\n",
      "NoSuchElementError@chrome://remote/content/shared/webdriver/Errors.jsm:404:5\n",
      "element.find/</<@chrome://remote/content/marionette/element.js:291:16\n",
      "\n",
      "Message: Unable to locate element: //*[@id=\"view_20\"]/div[2]/table\n",
      "Stacktrace:\n",
      "RemoteError@chrome://remote/content/shared/RemoteError.jsm:12:1\n",
      "WebDriverError@chrome://remote/content/shared/webdriver/Errors.jsm:192:5\n",
      "NoSuchElementError@chrome://remote/content/shared/webdriver/Errors.jsm:404:5\n",
      "element.find/</<@chrome://remote/content/marionette/element.js:291:16\n",
      "\n",
      "Message: Unable to locate element: //*[@id=\"view_20\"]/div[2]/table\n",
      "Stacktrace:\n",
      "RemoteError@chrome://remote/content/shared/RemoteError.jsm:12:1\n",
      "WebDriverError@chrome://remote/content/shared/webdriver/Errors.jsm:192:5\n",
      "NoSuchElementError@chrome://remote/content/shared/webdriver/Errors.jsm:404:5\n",
      "element.find/</<@chrome://remote/content/marionette/element.js:291:16\n",
      "\n",
      "Message: Unable to locate element: //*[@id=\"view_20\"]/div[2]/table\n",
      "Stacktrace:\n",
      "RemoteError@chrome://remote/content/shared/RemoteError.jsm:12:1\n",
      "WebDriverError@chrome://remote/content/shared/webdriver/Errors.jsm:192:5\n",
      "NoSuchElementError@chrome://remote/content/shared/webdriver/Errors.jsm:404:5\n",
      "element.find/</<@chrome://remote/content/marionette/element.js:291:16\n",
      "\n",
      "Message: Unable to locate element: //*[@id=\"view_20\"]/div[2]/table\n",
      "Stacktrace:\n",
      "RemoteError@chrome://remote/content/shared/RemoteError.jsm:12:1\n",
      "WebDriverError@chrome://remote/content/shared/webdriver/Errors.jsm:192:5\n",
      "NoSuchElementError@chrome://remote/content/shared/webdriver/Errors.jsm:404:5\n",
      "element.find/</<@chrome://remote/content/marionette/element.js:291:16\n",
      "\n",
      "Message: Unable to locate element: //*[@id=\"view_20\"]/div[2]/table\n",
      "Stacktrace:\n",
      "RemoteError@chrome://remote/content/shared/RemoteError.jsm:12:1\n",
      "WebDriverError@chrome://remote/content/shared/webdriver/Errors.jsm:192:5\n",
      "NoSuchElementError@chrome://remote/content/shared/webdriver/Errors.jsm:404:5\n",
      "element.find/</<@chrome://remote/content/marionette/element.js:291:16\n",
      "\n",
      "Message: Unable to locate element: //*[@id=\"view_20\"]/div[2]/table\n",
      "Stacktrace:\n",
      "RemoteError@chrome://remote/content/shared/RemoteError.jsm:12:1\n",
      "WebDriverError@chrome://remote/content/shared/webdriver/Errors.jsm:192:5\n",
      "NoSuchElementError@chrome://remote/content/shared/webdriver/Errors.jsm:404:5\n",
      "element.find/</<@chrome://remote/content/marionette/element.js:291:16\n",
      "\n",
      "Message: Unable to locate element: //*[@id=\"view_20\"]/div[2]/table\n",
      "Stacktrace:\n",
      "RemoteError@chrome://remote/content/shared/RemoteError.jsm:12:1\n",
      "WebDriverError@chrome://remote/content/shared/webdriver/Errors.jsm:192:5\n",
      "NoSuchElementError@chrome://remote/content/shared/webdriver/Errors.jsm:404:5\n",
      "element.find/</<@chrome://remote/content/marionette/element.js:291:16\n",
      "\n",
      "Message: Unable to locate element: //*[@id=\"view_20\"]/div[2]/table\n",
      "Stacktrace:\n",
      "RemoteError@chrome://remote/content/shared/RemoteError.jsm:12:1\n",
      "WebDriverError@chrome://remote/content/shared/webdriver/Errors.jsm:192:5\n",
      "NoSuchElementError@chrome://remote/content/shared/webdriver/Errors.jsm:404:5\n",
      "element.find/</<@chrome://remote/content/marionette/element.js:291:16\n",
      "\n",
      "Message: Unable to locate element: //*[@id=\"view_20\"]/div[2]/table\n",
      "Stacktrace:\n",
      "RemoteError@chrome://remote/content/shared/RemoteError.jsm:12:1\n",
      "WebDriverError@chrome://remote/content/shared/webdriver/Errors.jsm:192:5\n",
      "NoSuchElementError@chrome://remote/content/shared/webdriver/Errors.jsm:404:5\n",
      "element.find/</<@chrome://remote/content/marionette/element.js:291:16\n",
      "\n",
      "Message: Unable to locate element: //*[@id=\"view_20\"]/div[2]/table\n",
      "Stacktrace:\n",
      "RemoteError@chrome://remote/content/shared/RemoteError.jsm:12:1\n",
      "WebDriverError@chrome://remote/content/shared/webdriver/Errors.jsm:192:5\n",
      "NoSuchElementError@chrome://remote/content/shared/webdriver/Errors.jsm:404:5\n",
      "element.find/</<@chrome://remote/content/marionette/element.js:291:16\n",
      "\n",
      "Message: Unable to locate element: //*[@id=\"view_20\"]/div[2]/table\n",
      "Stacktrace:\n",
      "RemoteError@chrome://remote/content/shared/RemoteError.jsm:12:1\n",
      "WebDriverError@chrome://remote/content/shared/webdriver/Errors.jsm:192:5\n",
      "NoSuchElementError@chrome://remote/content/shared/webdriver/Errors.jsm:404:5\n",
      "element.find/</<@chrome://remote/content/marionette/element.js:291:16\n",
      "\n",
      "Message: Unable to locate element: //*[@id=\"view_20\"]/div[2]/table\n",
      "Stacktrace:\n",
      "RemoteError@chrome://remote/content/shared/RemoteError.jsm:12:1\n",
      "WebDriverError@chrome://remote/content/shared/webdriver/Errors.jsm:192:5\n",
      "NoSuchElementError@chrome://remote/content/shared/webdriver/Errors.jsm:404:5\n",
      "element.find/</<@chrome://remote/content/marionette/element.js:291:16\n",
      "\n",
      "Message: Unable to locate element: //*[@id=\"view_20\"]/div[2]/table\n",
      "Stacktrace:\n",
      "RemoteError@chrome://remote/content/shared/RemoteError.jsm:12:1\n",
      "WebDriverError@chrome://remote/content/shared/webdriver/Errors.jsm:192:5\n",
      "NoSuchElementError@chrome://remote/content/shared/webdriver/Errors.jsm:404:5\n",
      "element.find/</<@chrome://remote/content/marionette/element.js:291:16\n",
      "\n",
      "Message: Unable to locate element: //*[@id=\"view_20\"]/div[2]/table\n",
      "Stacktrace:\n",
      "RemoteError@chrome://remote/content/shared/RemoteError.jsm:12:1\n",
      "WebDriverError@chrome://remote/content/shared/webdriver/Errors.jsm:192:5\n",
      "NoSuchElementError@chrome://remote/content/shared/webdriver/Errors.jsm:404:5\n",
      "element.find/</<@chrome://remote/content/marionette/element.js:291:16\n",
      "\n",
      "Message: Unable to locate element: //*[@id=\"view_20\"]/div[2]/table\n",
      "Stacktrace:\n",
      "RemoteError@chrome://remote/content/shared/RemoteError.jsm:12:1\n",
      "WebDriverError@chrome://remote/content/shared/webdriver/Errors.jsm:192:5\n",
      "NoSuchElementError@chrome://remote/content/shared/webdriver/Errors.jsm:404:5\n",
      "element.find/</<@chrome://remote/content/marionette/element.js:291:16\n",
      "\n",
      "Message: Unable to locate element: //*[@id=\"view_20\"]/div[2]/table\n",
      "Stacktrace:\n",
      "RemoteError@chrome://remote/content/shared/RemoteError.jsm:12:1\n",
      "WebDriverError@chrome://remote/content/shared/webdriver/Errors.jsm:192:5\n",
      "NoSuchElementError@chrome://remote/content/shared/webdriver/Errors.jsm:404:5\n",
      "element.find/</<@chrome://remote/content/marionette/element.js:291:16\n",
      "\n",
      "Message: Unable to locate element: //*[@id=\"view_20\"]/div[2]/table\n",
      "Stacktrace:\n",
      "RemoteError@chrome://remote/content/shared/RemoteError.jsm:12:1\n",
      "WebDriverError@chrome://remote/content/shared/webdriver/Errors.jsm:192:5\n",
      "NoSuchElementError@chrome://remote/content/shared/webdriver/Errors.jsm:404:5\n",
      "element.find/</<@chrome://remote/content/marionette/element.js:291:16\n",
      "\n",
      "Message: Unable to locate element: //*[@id=\"view_20\"]/div[2]/table\n",
      "Stacktrace:\n",
      "RemoteError@chrome://remote/content/shared/RemoteError.jsm:12:1\n",
      "WebDriverError@chrome://remote/content/shared/webdriver/Errors.jsm:192:5\n",
      "NoSuchElementError@chrome://remote/content/shared/webdriver/Errors.jsm:404:5\n",
      "element.find/</<@chrome://remote/content/marionette/element.js:291:16\n",
      "\n",
      "[2, 4, 5, 7, 9, 10, 11, 12, 14, 16, 18, 20, 22, 24, 26, 27, 29, 31, 33, 35, 37, 39, 40, 41, 43, 45, 46, 47, 49, 51, 53, 55, 57, 58, 60, 62, 64, 66, 68, 70, 72, 73, 75, 77, 79, 80, 82, 84, 85, 86, 87, 89, 91, 92, 94, 96, 98, 99, 101, 103, 105, 106, 107, 108, 110, 112, 114]\n"
     ]
    },
    {
     "data": {
      "application/vnd.jupyter.widget-view+json": {
       "model_id": "dde175ea1e304b7988eeae21e31d5acf",
       "version_major": 2,
       "version_minor": 0
      },
      "text/plain": [
       "  0%|          | 0/67 [00:00<?, ?it/s]"
      ]
     },
     "metadata": {},
     "output_type": "display_data"
    },
    {
     "name": "stdout",
     "output_type": "stream",
     "text": [
      "Message: Unable to locate element: //*[@id=\"view_20\"]/div[2]/table\n",
      "Stacktrace:\n",
      "RemoteError@chrome://remote/content/shared/RemoteError.jsm:12:1\n",
      "WebDriverError@chrome://remote/content/shared/webdriver/Errors.jsm:192:5\n",
      "NoSuchElementError@chrome://remote/content/shared/webdriver/Errors.jsm:404:5\n",
      "element.find/</<@chrome://remote/content/marionette/element.js:291:16\n",
      "\n",
      "Message: Unable to locate element: //*[@id=\"view_20\"]/div[2]/table\n",
      "Stacktrace:\n",
      "RemoteError@chrome://remote/content/shared/RemoteError.jsm:12:1\n",
      "WebDriverError@chrome://remote/content/shared/webdriver/Errors.jsm:192:5\n",
      "NoSuchElementError@chrome://remote/content/shared/webdriver/Errors.jsm:404:5\n",
      "element.find/</<@chrome://remote/content/marionette/element.js:291:16\n",
      "\n",
      "Message: Unable to locate element: //*[@id=\"view_20\"]/div[2]/table\n",
      "Stacktrace:\n",
      "RemoteError@chrome://remote/content/shared/RemoteError.jsm:12:1\n",
      "WebDriverError@chrome://remote/content/shared/webdriver/Errors.jsm:192:5\n",
      "NoSuchElementError@chrome://remote/content/shared/webdriver/Errors.jsm:404:5\n",
      "element.find/</<@chrome://remote/content/marionette/element.js:291:16\n",
      "\n",
      "Message: Unable to locate element: //*[@id=\"view_20\"]/div[2]/table\n",
      "Stacktrace:\n",
      "RemoteError@chrome://remote/content/shared/RemoteError.jsm:12:1\n",
      "WebDriverError@chrome://remote/content/shared/webdriver/Errors.jsm:192:5\n",
      "NoSuchElementError@chrome://remote/content/shared/webdriver/Errors.jsm:404:5\n",
      "element.find/</<@chrome://remote/content/marionette/element.js:291:16\n",
      "\n",
      "Message: Unable to locate element: //*[@id=\"view_20\"]/div[2]/table\n",
      "Stacktrace:\n",
      "RemoteError@chrome://remote/content/shared/RemoteError.jsm:12:1\n",
      "WebDriverError@chrome://remote/content/shared/webdriver/Errors.jsm:192:5\n",
      "NoSuchElementError@chrome://remote/content/shared/webdriver/Errors.jsm:404:5\n",
      "element.find/</<@chrome://remote/content/marionette/element.js:291:16\n",
      "\n",
      "Message: Unable to locate element: //*[@id=\"view_20\"]/div[2]/table\n",
      "Stacktrace:\n",
      "RemoteError@chrome://remote/content/shared/RemoteError.jsm:12:1\n",
      "WebDriverError@chrome://remote/content/shared/webdriver/Errors.jsm:192:5\n",
      "NoSuchElementError@chrome://remote/content/shared/webdriver/Errors.jsm:404:5\n",
      "element.find/</<@chrome://remote/content/marionette/element.js:291:16\n",
      "\n",
      "Message: Unable to locate element: //*[@id=\"view_20\"]/div[2]/table\n",
      "Stacktrace:\n",
      "RemoteError@chrome://remote/content/shared/RemoteError.jsm:12:1\n",
      "WebDriverError@chrome://remote/content/shared/webdriver/Errors.jsm:192:5\n",
      "NoSuchElementError@chrome://remote/content/shared/webdriver/Errors.jsm:404:5\n",
      "element.find/</<@chrome://remote/content/marionette/element.js:291:16\n",
      "\n",
      "Message: Unable to locate element: //*[@id=\"view_20\"]/div[2]/table\n",
      "Stacktrace:\n",
      "RemoteError@chrome://remote/content/shared/RemoteError.jsm:12:1\n",
      "WebDriverError@chrome://remote/content/shared/webdriver/Errors.jsm:192:5\n",
      "NoSuchElementError@chrome://remote/content/shared/webdriver/Errors.jsm:404:5\n",
      "element.find/</<@chrome://remote/content/marionette/element.js:291:16\n",
      "\n",
      "Message: Unable to locate element: //*[@id=\"view_20\"]/div[2]/table\n",
      "Stacktrace:\n",
      "RemoteError@chrome://remote/content/shared/RemoteError.jsm:12:1\n",
      "WebDriverError@chrome://remote/content/shared/webdriver/Errors.jsm:192:5\n",
      "NoSuchElementError@chrome://remote/content/shared/webdriver/Errors.jsm:404:5\n",
      "element.find/</<@chrome://remote/content/marionette/element.js:291:16\n",
      "\n",
      "Message: Unable to locate element: //*[@id=\"view_20\"]/div[2]/table\n",
      "Stacktrace:\n",
      "RemoteError@chrome://remote/content/shared/RemoteError.jsm:12:1\n",
      "WebDriverError@chrome://remote/content/shared/webdriver/Errors.jsm:192:5\n",
      "NoSuchElementError@chrome://remote/content/shared/webdriver/Errors.jsm:404:5\n",
      "element.find/</<@chrome://remote/content/marionette/element.js:291:16\n",
      "\n",
      "Message: Unable to locate element: //*[@id=\"view_20\"]/div[2]/table\n",
      "Stacktrace:\n",
      "RemoteError@chrome://remote/content/shared/RemoteError.jsm:12:1\n",
      "WebDriverError@chrome://remote/content/shared/webdriver/Errors.jsm:192:5\n",
      "NoSuchElementError@chrome://remote/content/shared/webdriver/Errors.jsm:404:5\n",
      "element.find/</<@chrome://remote/content/marionette/element.js:291:16\n",
      "\n",
      "Message: Unable to locate element: //*[@id=\"view_20\"]/div[2]/table\n",
      "Stacktrace:\n",
      "RemoteError@chrome://remote/content/shared/RemoteError.jsm:12:1\n",
      "WebDriverError@chrome://remote/content/shared/webdriver/Errors.jsm:192:5\n",
      "NoSuchElementError@chrome://remote/content/shared/webdriver/Errors.jsm:404:5\n",
      "element.find/</<@chrome://remote/content/marionette/element.js:291:16\n",
      "\n",
      "Message: Unable to locate element: //*[@id=\"view_20\"]/div[2]/table\n",
      "Stacktrace:\n",
      "RemoteError@chrome://remote/content/shared/RemoteError.jsm:12:1\n",
      "WebDriverError@chrome://remote/content/shared/webdriver/Errors.jsm:192:5\n",
      "NoSuchElementError@chrome://remote/content/shared/webdriver/Errors.jsm:404:5\n",
      "element.find/</<@chrome://remote/content/marionette/element.js:291:16\n",
      "\n",
      "[4, 5, 7, 10, 12, 16, 20, 22, 26, 29, 33, 37, 39, 41, 43, 46, 47, 51, 53, 57, 58, 62, 64, 66, 70, 73, 77, 80, 84, 85, 86, 89, 92, 96, 99, 103, 106, 108, 110, 114]\n"
     ]
    },
    {
     "data": {
      "application/vnd.jupyter.widget-view+json": {
       "model_id": "275fe9a074834049b235cc69e24f7ed2",
       "version_major": 2,
       "version_minor": 0
      },
      "text/plain": [
       "  0%|          | 0/40 [00:00<?, ?it/s]"
      ]
     },
     "metadata": {},
     "output_type": "display_data"
    },
    {
     "name": "stdout",
     "output_type": "stream",
     "text": [
      "Message: Unable to locate element: //*[@id=\"view_20\"]/div[2]/table\n",
      "Stacktrace:\n",
      "RemoteError@chrome://remote/content/shared/RemoteError.jsm:12:1\n",
      "WebDriverError@chrome://remote/content/shared/webdriver/Errors.jsm:192:5\n",
      "NoSuchElementError@chrome://remote/content/shared/webdriver/Errors.jsm:404:5\n",
      "element.find/</<@chrome://remote/content/marionette/element.js:291:16\n",
      "\n",
      "Message: Unable to locate element: //*[@id=\"view_20\"]/div[2]/table\n",
      "Stacktrace:\n",
      "RemoteError@chrome://remote/content/shared/RemoteError.jsm:12:1\n",
      "WebDriverError@chrome://remote/content/shared/webdriver/Errors.jsm:192:5\n",
      "NoSuchElementError@chrome://remote/content/shared/webdriver/Errors.jsm:404:5\n",
      "element.find/</<@chrome://remote/content/marionette/element.js:291:16\n",
      "\n",
      "Message: Unable to locate element: //*[@id=\"view_20\"]/div[2]/table\n",
      "Stacktrace:\n",
      "RemoteError@chrome://remote/content/shared/RemoteError.jsm:12:1\n",
      "WebDriverError@chrome://remote/content/shared/webdriver/Errors.jsm:192:5\n",
      "NoSuchElementError@chrome://remote/content/shared/webdriver/Errors.jsm:404:5\n",
      "element.find/</<@chrome://remote/content/marionette/element.js:291:16\n",
      "\n",
      "Message: Unable to locate element: //*[@id=\"view_20\"]/div[2]/table\n",
      "Stacktrace:\n",
      "RemoteError@chrome://remote/content/shared/RemoteError.jsm:12:1\n",
      "WebDriverError@chrome://remote/content/shared/webdriver/Errors.jsm:192:5\n",
      "NoSuchElementError@chrome://remote/content/shared/webdriver/Errors.jsm:404:5\n",
      "element.find/</<@chrome://remote/content/marionette/element.js:291:16\n",
      "\n",
      "Message: Unable to locate element: //*[@id=\"view_20\"]/div[2]/table\n",
      "Stacktrace:\n",
      "RemoteError@chrome://remote/content/shared/RemoteError.jsm:12:1\n",
      "WebDriverError@chrome://remote/content/shared/webdriver/Errors.jsm:192:5\n",
      "NoSuchElementError@chrome://remote/content/shared/webdriver/Errors.jsm:404:5\n",
      "element.find/</<@chrome://remote/content/marionette/element.js:291:16\n",
      "\n",
      "Message: Unable to locate element: //*[@id=\"view_20\"]/div[2]/table\n",
      "Stacktrace:\n",
      "RemoteError@chrome://remote/content/shared/RemoteError.jsm:12:1\n",
      "WebDriverError@chrome://remote/content/shared/webdriver/Errors.jsm:192:5\n",
      "NoSuchElementError@chrome://remote/content/shared/webdriver/Errors.jsm:404:5\n",
      "element.find/</<@chrome://remote/content/marionette/element.js:291:16\n",
      "\n",
      "Message: Unable to locate element: //*[@id=\"view_20\"]/div[2]/table\n",
      "Stacktrace:\n",
      "RemoteError@chrome://remote/content/shared/RemoteError.jsm:12:1\n",
      "WebDriverError@chrome://remote/content/shared/webdriver/Errors.jsm:192:5\n",
      "NoSuchElementError@chrome://remote/content/shared/webdriver/Errors.jsm:404:5\n",
      "element.find/</<@chrome://remote/content/marionette/element.js:291:16\n",
      "\n",
      "Message: Unable to locate element: //*[@id=\"view_20\"]/div[2]/table\n",
      "Stacktrace:\n",
      "RemoteError@chrome://remote/content/shared/RemoteError.jsm:12:1\n",
      "WebDriverError@chrome://remote/content/shared/webdriver/Errors.jsm:192:5\n",
      "NoSuchElementError@chrome://remote/content/shared/webdriver/Errors.jsm:404:5\n",
      "element.find/</<@chrome://remote/content/marionette/element.js:291:16\n",
      "\n",
      "Message: Unable to locate element: //*[@id=\"view_20\"]/div[2]/table\n",
      "Stacktrace:\n",
      "RemoteError@chrome://remote/content/shared/RemoteError.jsm:12:1\n",
      "WebDriverError@chrome://remote/content/shared/webdriver/Errors.jsm:192:5\n",
      "NoSuchElementError@chrome://remote/content/shared/webdriver/Errors.jsm:404:5\n",
      "element.find/</<@chrome://remote/content/marionette/element.js:291:16\n",
      "\n",
      "Message: Unable to locate element: //*[@id=\"view_20\"]/div[2]/table\n",
      "Stacktrace:\n",
      "RemoteError@chrome://remote/content/shared/RemoteError.jsm:12:1\n",
      "WebDriverError@chrome://remote/content/shared/webdriver/Errors.jsm:192:5\n",
      "NoSuchElementError@chrome://remote/content/shared/webdriver/Errors.jsm:404:5\n",
      "element.find/</<@chrome://remote/content/marionette/element.js:291:16\n",
      "\n",
      "Message: Unable to locate element: //*[@id=\"view_20\"]/div[2]/table\n",
      "Stacktrace:\n",
      "RemoteError@chrome://remote/content/shared/RemoteError.jsm:12:1\n",
      "WebDriverError@chrome://remote/content/shared/webdriver/Errors.jsm:192:5\n",
      "NoSuchElementError@chrome://remote/content/shared/webdriver/Errors.jsm:404:5\n",
      "element.find/</<@chrome://remote/content/marionette/element.js:291:16\n",
      "\n",
      "Message: Unable to locate element: //*[@id=\"view_20\"]/div[2]/table\n",
      "Stacktrace:\n",
      "RemoteError@chrome://remote/content/shared/RemoteError.jsm:12:1\n",
      "WebDriverError@chrome://remote/content/shared/webdriver/Errors.jsm:192:5\n",
      "NoSuchElementError@chrome://remote/content/shared/webdriver/Errors.jsm:404:5\n",
      "element.find/</<@chrome://remote/content/marionette/element.js:291:16\n",
      "\n",
      "[4, 5, 7, 12, 20, 26, 33, 39, 43, 46, 47, 53, 57, 58, 62, 64, 70, 73, 80, 85, 89, 92, 96, 103, 108, 114]\n"
     ]
    },
    {
     "data": {
      "application/vnd.jupyter.widget-view+json": {
       "model_id": "b04734799ead4998938ad9f7704a4985",
       "version_major": 2,
       "version_minor": 0
      },
      "text/plain": [
       "  0%|          | 0/26 [00:00<?, ?it/s]"
      ]
     },
     "metadata": {},
     "output_type": "display_data"
    },
    {
     "name": "stdout",
     "output_type": "stream",
     "text": [
      "Message: Unable to locate element: //*[@id=\"view_20\"]/div[2]/table\n",
      "Stacktrace:\n",
      "RemoteError@chrome://remote/content/shared/RemoteError.jsm:12:1\n",
      "WebDriverError@chrome://remote/content/shared/webdriver/Errors.jsm:192:5\n",
      "NoSuchElementError@chrome://remote/content/shared/webdriver/Errors.jsm:404:5\n",
      "element.find/</<@chrome://remote/content/marionette/element.js:291:16\n",
      "\n",
      "Message: Unable to locate element: //*[@id=\"view_20\"]/div[2]/table\n",
      "Stacktrace:\n",
      "RemoteError@chrome://remote/content/shared/RemoteError.jsm:12:1\n",
      "WebDriverError@chrome://remote/content/shared/webdriver/Errors.jsm:192:5\n",
      "NoSuchElementError@chrome://remote/content/shared/webdriver/Errors.jsm:404:5\n",
      "element.find/</<@chrome://remote/content/marionette/element.js:291:16\n",
      "\n",
      "Message: Unable to locate element: //*[@id=\"view_20\"]/div[2]/table\n",
      "Stacktrace:\n",
      "RemoteError@chrome://remote/content/shared/RemoteError.jsm:12:1\n",
      "WebDriverError@chrome://remote/content/shared/webdriver/Errors.jsm:192:5\n",
      "NoSuchElementError@chrome://remote/content/shared/webdriver/Errors.jsm:404:5\n",
      "element.find/</<@chrome://remote/content/marionette/element.js:291:16\n",
      "\n",
      "Message: Unable to locate element: //*[@id=\"view_20\"]/div[2]/table\n",
      "Stacktrace:\n",
      "RemoteError@chrome://remote/content/shared/RemoteError.jsm:12:1\n",
      "WebDriverError@chrome://remote/content/shared/webdriver/Errors.jsm:192:5\n",
      "NoSuchElementError@chrome://remote/content/shared/webdriver/Errors.jsm:404:5\n",
      "element.find/</<@chrome://remote/content/marionette/element.js:291:16\n",
      "\n",
      "Message: Unable to locate element: //*[@id=\"view_20\"]/div[2]/table\n",
      "Stacktrace:\n",
      "RemoteError@chrome://remote/content/shared/RemoteError.jsm:12:1\n",
      "WebDriverError@chrome://remote/content/shared/webdriver/Errors.jsm:192:5\n",
      "NoSuchElementError@chrome://remote/content/shared/webdriver/Errors.jsm:404:5\n",
      "element.find/</<@chrome://remote/content/marionette/element.js:291:16\n",
      "\n",
      "Message: Unable to locate element: //*[@id=\"view_20\"]/div[2]/table\n",
      "Stacktrace:\n",
      "RemoteError@chrome://remote/content/shared/RemoteError.jsm:12:1\n",
      "WebDriverError@chrome://remote/content/shared/webdriver/Errors.jsm:192:5\n",
      "NoSuchElementError@chrome://remote/content/shared/webdriver/Errors.jsm:404:5\n",
      "element.find/</<@chrome://remote/content/marionette/element.js:291:16\n",
      "\n",
      "Message: Unable to locate element: //*[@id=\"view_20\"]/div[2]/table\n",
      "Stacktrace:\n",
      "RemoteError@chrome://remote/content/shared/RemoteError.jsm:12:1\n",
      "WebDriverError@chrome://remote/content/shared/webdriver/Errors.jsm:192:5\n",
      "NoSuchElementError@chrome://remote/content/shared/webdriver/Errors.jsm:404:5\n",
      "element.find/</<@chrome://remote/content/marionette/element.js:291:16\n",
      "\n",
      "[5, 7, 12, 26, 33, 39, 43, 47, 57, 62, 64, 73, 85, 92, 103, 108]\n"
     ]
    },
    {
     "data": {
      "application/vnd.jupyter.widget-view+json": {
       "model_id": "0aaca3964855477cb1956aa8f99a2e17",
       "version_major": 2,
       "version_minor": 0
      },
      "text/plain": [
       "  0%|          | 0/16 [00:00<?, ?it/s]"
      ]
     },
     "metadata": {},
     "output_type": "display_data"
    },
    {
     "name": "stdout",
     "output_type": "stream",
     "text": [
      "Message: Unable to locate element: //*[@id=\"view_20\"]/div[2]/table\n",
      "Stacktrace:\n",
      "RemoteError@chrome://remote/content/shared/RemoteError.jsm:12:1\n",
      "WebDriverError@chrome://remote/content/shared/webdriver/Errors.jsm:192:5\n",
      "NoSuchElementError@chrome://remote/content/shared/webdriver/Errors.jsm:404:5\n",
      "element.find/</<@chrome://remote/content/marionette/element.js:291:16\n",
      "\n",
      "Message: Unable to locate element: //*[@id=\"view_20\"]/div[2]/table\n",
      "Stacktrace:\n",
      "RemoteError@chrome://remote/content/shared/RemoteError.jsm:12:1\n",
      "WebDriverError@chrome://remote/content/shared/webdriver/Errors.jsm:192:5\n",
      "NoSuchElementError@chrome://remote/content/shared/webdriver/Errors.jsm:404:5\n",
      "element.find/</<@chrome://remote/content/marionette/element.js:291:16\n",
      "\n",
      "Message: Unable to locate element: //*[@id=\"view_20\"]/div[2]/table\n",
      "Stacktrace:\n",
      "RemoteError@chrome://remote/content/shared/RemoteError.jsm:12:1\n",
      "WebDriverError@chrome://remote/content/shared/webdriver/Errors.jsm:192:5\n",
      "NoSuchElementError@chrome://remote/content/shared/webdriver/Errors.jsm:404:5\n",
      "element.find/</<@chrome://remote/content/marionette/element.js:291:16\n",
      "\n",
      "Message: Unable to locate element: //*[@id=\"view_20\"]/div[2]/table\n",
      "Stacktrace:\n",
      "RemoteError@chrome://remote/content/shared/RemoteError.jsm:12:1\n",
      "WebDriverError@chrome://remote/content/shared/webdriver/Errors.jsm:192:5\n",
      "NoSuchElementError@chrome://remote/content/shared/webdriver/Errors.jsm:404:5\n",
      "element.find/</<@chrome://remote/content/marionette/element.js:291:16\n",
      "\n",
      "[5, 12, 33, 43, 47, 57, 62, 73, 92, 108]\n"
     ]
    },
    {
     "data": {
      "application/vnd.jupyter.widget-view+json": {
       "model_id": "cddb416af0f3431f92131e8401d6275f",
       "version_major": 2,
       "version_minor": 0
      },
      "text/plain": [
       "  0%|          | 0/10 [00:00<?, ?it/s]"
      ]
     },
     "metadata": {},
     "output_type": "display_data"
    },
    {
     "name": "stdout",
     "output_type": "stream",
     "text": [
      "Message: Unable to locate element: //*[@id=\"view_20\"]/div[2]/table\n",
      "Stacktrace:\n",
      "RemoteError@chrome://remote/content/shared/RemoteError.jsm:12:1\n",
      "WebDriverError@chrome://remote/content/shared/webdriver/Errors.jsm:192:5\n",
      "NoSuchElementError@chrome://remote/content/shared/webdriver/Errors.jsm:404:5\n",
      "element.find/</<@chrome://remote/content/marionette/element.js:291:16\n",
      "\n",
      "Message: Unable to locate element: //*[@id=\"view_20\"]/div[2]/table\n",
      "Stacktrace:\n",
      "RemoteError@chrome://remote/content/shared/RemoteError.jsm:12:1\n",
      "WebDriverError@chrome://remote/content/shared/webdriver/Errors.jsm:192:5\n",
      "NoSuchElementError@chrome://remote/content/shared/webdriver/Errors.jsm:404:5\n",
      "element.find/</<@chrome://remote/content/marionette/element.js:291:16\n",
      "\n",
      "Message: Unable to locate element: //*[@id=\"view_20\"]/div[2]/table\n",
      "Stacktrace:\n",
      "RemoteError@chrome://remote/content/shared/RemoteError.jsm:12:1\n",
      "WebDriverError@chrome://remote/content/shared/webdriver/Errors.jsm:192:5\n",
      "NoSuchElementError@chrome://remote/content/shared/webdriver/Errors.jsm:404:5\n",
      "element.find/</<@chrome://remote/content/marionette/element.js:291:16\n",
      "\n",
      "Message: Unable to locate element: //*[@id=\"view_20\"]/div[2]/table\n",
      "Stacktrace:\n",
      "RemoteError@chrome://remote/content/shared/RemoteError.jsm:12:1\n",
      "WebDriverError@chrome://remote/content/shared/webdriver/Errors.jsm:192:5\n",
      "NoSuchElementError@chrome://remote/content/shared/webdriver/Errors.jsm:404:5\n",
      "element.find/</<@chrome://remote/content/marionette/element.js:291:16\n",
      "\n",
      "Message: Unable to locate element: //*[@id=\"view_20\"]/div[2]/table\n",
      "Stacktrace:\n",
      "RemoteError@chrome://remote/content/shared/RemoteError.jsm:12:1\n",
      "WebDriverError@chrome://remote/content/shared/webdriver/Errors.jsm:192:5\n",
      "NoSuchElementError@chrome://remote/content/shared/webdriver/Errors.jsm:404:5\n",
      "element.find/</<@chrome://remote/content/marionette/element.js:291:16\n",
      "\n",
      "Message: Unable to locate element: //*[@id=\"view_20\"]/div[2]/table\n",
      "Stacktrace:\n",
      "RemoteError@chrome://remote/content/shared/RemoteError.jsm:12:1\n",
      "WebDriverError@chrome://remote/content/shared/webdriver/Errors.jsm:192:5\n",
      "NoSuchElementError@chrome://remote/content/shared/webdriver/Errors.jsm:404:5\n",
      "element.find/</<@chrome://remote/content/marionette/element.js:291:16\n",
      "\n",
      "[5, 12, 33, 43, 47, 57, 73, 108]\n"
     ]
    },
    {
     "data": {
      "application/vnd.jupyter.widget-view+json": {
       "model_id": "ebcf5f827ed44980a44fde466b579b03",
       "version_major": 2,
       "version_minor": 0
      },
      "text/plain": [
       "  0%|          | 0/8 [00:00<?, ?it/s]"
      ]
     },
     "metadata": {},
     "output_type": "display_data"
    },
    {
     "name": "stdout",
     "output_type": "stream",
     "text": [
      "Message: Unable to locate element: //*[@id=\"view_20\"]/div[2]/table\n",
      "Stacktrace:\n",
      "RemoteError@chrome://remote/content/shared/RemoteError.jsm:12:1\n",
      "WebDriverError@chrome://remote/content/shared/webdriver/Errors.jsm:192:5\n",
      "NoSuchElementError@chrome://remote/content/shared/webdriver/Errors.jsm:404:5\n",
      "element.find/</<@chrome://remote/content/marionette/element.js:291:16\n",
      "\n",
      "Message: Unable to locate element: //*[@id=\"view_20\"]/div[2]/table\n",
      "Stacktrace:\n",
      "RemoteError@chrome://remote/content/shared/RemoteError.jsm:12:1\n",
      "WebDriverError@chrome://remote/content/shared/webdriver/Errors.jsm:192:5\n",
      "NoSuchElementError@chrome://remote/content/shared/webdriver/Errors.jsm:404:5\n",
      "element.find/</<@chrome://remote/content/marionette/element.js:291:16\n",
      "\n",
      "[5, 33, 43, 57, 108]\n"
     ]
    },
    {
     "data": {
      "application/vnd.jupyter.widget-view+json": {
       "model_id": "fc61c1341ba64b8d85c19c8d9d3e2a2e",
       "version_major": 2,
       "version_minor": 0
      },
      "text/plain": [
       "  0%|          | 0/5 [00:00<?, ?it/s]"
      ]
     },
     "metadata": {},
     "output_type": "display_data"
    },
    {
     "name": "stdout",
     "output_type": "stream",
     "text": [
      "Message: Unable to locate element: //*[@id=\"view_20\"]/div[2]/table\n",
      "Stacktrace:\n",
      "RemoteError@chrome://remote/content/shared/RemoteError.jsm:12:1\n",
      "WebDriverError@chrome://remote/content/shared/webdriver/Errors.jsm:192:5\n",
      "NoSuchElementError@chrome://remote/content/shared/webdriver/Errors.jsm:404:5\n",
      "element.find/</<@chrome://remote/content/marionette/element.js:291:16\n",
      "\n",
      "Message: Unable to locate element: //*[@id=\"view_20\"]/div[2]/table\n",
      "Stacktrace:\n",
      "RemoteError@chrome://remote/content/shared/RemoteError.jsm:12:1\n",
      "WebDriverError@chrome://remote/content/shared/webdriver/Errors.jsm:192:5\n",
      "NoSuchElementError@chrome://remote/content/shared/webdriver/Errors.jsm:404:5\n",
      "element.find/</<@chrome://remote/content/marionette/element.js:291:16\n",
      "\n",
      "[33, 43, 57]\n"
     ]
    },
    {
     "data": {
      "application/vnd.jupyter.widget-view+json": {
       "model_id": "d93024c23ff4419a87b37d65173a601a",
       "version_major": 2,
       "version_minor": 0
      },
      "text/plain": [
       "  0%|          | 0/3 [00:00<?, ?it/s]"
      ]
     },
     "metadata": {},
     "output_type": "display_data"
    },
    {
     "name": "stdout",
     "output_type": "stream",
     "text": [
      "Message: Unable to locate element: //*[@id=\"view_20\"]/div[2]/table\n",
      "Stacktrace:\n",
      "RemoteError@chrome://remote/content/shared/RemoteError.jsm:12:1\n",
      "WebDriverError@chrome://remote/content/shared/webdriver/Errors.jsm:192:5\n",
      "NoSuchElementError@chrome://remote/content/shared/webdriver/Errors.jsm:404:5\n",
      "element.find/</<@chrome://remote/content/marionette/element.js:291:16\n",
      "\n",
      "Message: Unable to locate element: //*[@id=\"view_20\"]/div[2]/table\n",
      "Stacktrace:\n",
      "RemoteError@chrome://remote/content/shared/RemoteError.jsm:12:1\n",
      "WebDriverError@chrome://remote/content/shared/webdriver/Errors.jsm:192:5\n",
      "NoSuchElementError@chrome://remote/content/shared/webdriver/Errors.jsm:404:5\n",
      "element.find/</<@chrome://remote/content/marionette/element.js:291:16\n",
      "\n",
      "Message: Unable to locate element: //*[@id=\"view_20\"]/div[2]/table\n",
      "Stacktrace:\n",
      "RemoteError@chrome://remote/content/shared/RemoteError.jsm:12:1\n",
      "WebDriverError@chrome://remote/content/shared/webdriver/Errors.jsm:192:5\n",
      "NoSuchElementError@chrome://remote/content/shared/webdriver/Errors.jsm:404:5\n",
      "element.find/</<@chrome://remote/content/marionette/element.js:291:16\n",
      "\n",
      "[33, 43, 57]\n"
     ]
    },
    {
     "data": {
      "application/vnd.jupyter.widget-view+json": {
       "model_id": "f2fb23d8e9304d3dba32d14a490328e4",
       "version_major": 2,
       "version_minor": 0
      },
      "text/plain": [
       "  0%|          | 0/3 [00:00<?, ?it/s]"
      ]
     },
     "metadata": {},
     "output_type": "display_data"
    },
    {
     "name": "stdout",
     "output_type": "stream",
     "text": [
      "Message: Unable to locate element: //*[@id=\"view_20\"]/div[2]/table\n",
      "Stacktrace:\n",
      "RemoteError@chrome://remote/content/shared/RemoteError.jsm:12:1\n",
      "WebDriverError@chrome://remote/content/shared/webdriver/Errors.jsm:192:5\n",
      "NoSuchElementError@chrome://remote/content/shared/webdriver/Errors.jsm:404:5\n",
      "element.find/</<@chrome://remote/content/marionette/element.js:291:16\n",
      "\n",
      "[43, 57]\n"
     ]
    },
    {
     "data": {
      "application/vnd.jupyter.widget-view+json": {
       "model_id": "4e59765899b544bfb5723abed969495c",
       "version_major": 2,
       "version_minor": 0
      },
      "text/plain": [
       "  0%|          | 0/2 [00:00<?, ?it/s]"
      ]
     },
     "metadata": {},
     "output_type": "display_data"
    },
    {
     "name": "stdout",
     "output_type": "stream",
     "text": [
      "[57]\n"
     ]
    },
    {
     "data": {
      "application/vnd.jupyter.widget-view+json": {
       "model_id": "8d9caa2b3b4c431eb59c3a031ef730fd",
       "version_major": 2,
       "version_minor": 0
      },
      "text/plain": [
       "  0%|          | 0/1 [00:00<?, ?it/s]"
      ]
     },
     "metadata": {},
     "output_type": "display_data"
    },
    {
     "name": "stdout",
     "output_type": "stream",
     "text": [
      "Message: Unable to locate element: //*[@id=\"view_20\"]/div[2]/table\n",
      "Stacktrace:\n",
      "RemoteError@chrome://remote/content/shared/RemoteError.jsm:12:1\n",
      "WebDriverError@chrome://remote/content/shared/webdriver/Errors.jsm:192:5\n",
      "NoSuchElementError@chrome://remote/content/shared/webdriver/Errors.jsm:404:5\n",
      "element.find/</<@chrome://remote/content/marionette/element.js:291:16\n",
      "\n",
      "[57]\n"
     ]
    },
    {
     "data": {
      "application/vnd.jupyter.widget-view+json": {
       "model_id": "fb73bb0a281b4cc6bae7eafeff3e817b",
       "version_major": 2,
       "version_minor": 0
      },
      "text/plain": [
       "  0%|          | 0/1 [00:00<?, ?it/s]"
      ]
     },
     "metadata": {},
     "output_type": "display_data"
    },
    {
     "name": "stdout",
     "output_type": "stream",
     "text": [
      "Message: Unable to locate element: //*[@id=\"view_20\"]/div[2]/table\n",
      "Stacktrace:\n",
      "RemoteError@chrome://remote/content/shared/RemoteError.jsm:12:1\n",
      "WebDriverError@chrome://remote/content/shared/webdriver/Errors.jsm:192:5\n",
      "NoSuchElementError@chrome://remote/content/shared/webdriver/Errors.jsm:404:5\n",
      "element.find/</<@chrome://remote/content/marionette/element.js:291:16\n",
      "\n",
      "[57]\n"
     ]
    },
    {
     "data": {
      "application/vnd.jupyter.widget-view+json": {
       "model_id": "c4d004d00d3948a99fbd91ac687f78c3",
       "version_major": 2,
       "version_minor": 0
      },
      "text/plain": [
       "  0%|          | 0/1 [00:00<?, ?it/s]"
      ]
     },
     "metadata": {},
     "output_type": "display_data"
    },
    {
     "name": "stdout",
     "output_type": "stream",
     "text": [
      "Message: Unable to locate element: //*[@id=\"view_20\"]/div[2]/table\n",
      "Stacktrace:\n",
      "RemoteError@chrome://remote/content/shared/RemoteError.jsm:12:1\n",
      "WebDriverError@chrome://remote/content/shared/webdriver/Errors.jsm:192:5\n",
      "NoSuchElementError@chrome://remote/content/shared/webdriver/Errors.jsm:404:5\n",
      "element.find/</<@chrome://remote/content/marionette/element.js:291:16\n",
      "\n",
      "[57]\n"
     ]
    },
    {
     "data": {
      "application/vnd.jupyter.widget-view+json": {
       "model_id": "d82c23d006b146d1a47c8adec2e05562",
       "version_major": 2,
       "version_minor": 0
      },
      "text/plain": [
       "  0%|          | 0/1 [00:00<?, ?it/s]"
      ]
     },
     "metadata": {},
     "output_type": "display_data"
    },
    {
     "name": "stdout",
     "output_type": "stream",
     "text": [
      "Message: Unable to locate element: //*[@id=\"view_20\"]/div[2]/table\n",
      "Stacktrace:\n",
      "RemoteError@chrome://remote/content/shared/RemoteError.jsm:12:1\n",
      "WebDriverError@chrome://remote/content/shared/webdriver/Errors.jsm:192:5\n",
      "NoSuchElementError@chrome://remote/content/shared/webdriver/Errors.jsm:404:5\n",
      "element.find/</<@chrome://remote/content/marionette/element.js:291:16\n",
      "\n",
      "[57]\n"
     ]
    },
    {
     "data": {
      "application/vnd.jupyter.widget-view+json": {
       "model_id": "41cc0ff41a9547a4bd030b399f352565",
       "version_major": 2,
       "version_minor": 0
      },
      "text/plain": [
       "  0%|          | 0/1 [00:00<?, ?it/s]"
      ]
     },
     "metadata": {},
     "output_type": "display_data"
    },
    {
     "name": "stdout",
     "output_type": "stream",
     "text": [
      "Message: Unable to locate element: //*[@id=\"view_20\"]/div[2]/table\n",
      "Stacktrace:\n",
      "RemoteError@chrome://remote/content/shared/RemoteError.jsm:12:1\n",
      "WebDriverError@chrome://remote/content/shared/webdriver/Errors.jsm:192:5\n",
      "NoSuchElementError@chrome://remote/content/shared/webdriver/Errors.jsm:404:5\n",
      "element.find/</<@chrome://remote/content/marionette/element.js:291:16\n",
      "\n",
      "[57]\n"
     ]
    },
    {
     "data": {
      "application/vnd.jupyter.widget-view+json": {
       "model_id": "a550dc481e2240578cadde1df35b4007",
       "version_major": 2,
       "version_minor": 0
      },
      "text/plain": [
       "  0%|          | 0/1 [00:00<?, ?it/s]"
      ]
     },
     "metadata": {},
     "output_type": "display_data"
    },
    {
     "name": "stdout",
     "output_type": "stream",
     "text": [
      "[]\n"
     ]
    }
   ],
   "source": [
    "while len(cache) > 0:\n",
    "    for page in tqdm(cache):\n",
    "        try:\n",
    "            with webdriver.Firefox() as driver:\n",
    "                driver.get(f\"https://madison.com/uw-salary-database/html_e37ff025-9a87-5a31-91ea-b2eb50aba4cb.html#2018-uw-salaries/?view_20_page={page}&view_20_filters=%5B%7B%22field%22:%22field_106%22,%22operator%22:%22is%22,%22value%22:%22UW%20Madison%22%7D%5D&view_20_sort=field_107%7Cdesc&view_20_per_page=1000\")\n",
    "                table = driver.find_element(By.XPATH, '//*[@id=\"view_20\"]/div[2]/table')\n",
    "                table_html = table.get_attribute(\"outerHTML\")\n",
    "                df = pd.read_html(StringIO(table_html))[0]\n",
    "                df.to_csv(f\"../../data/cache/forbidden{page}.csv\", index = False)\n",
    "                cache.remove(page)\n",
    "        except Exception as ex:\n",
    "            print(ex)\n",
    "            continue\n",
    "    print(cache)"
   ]
  },
  {
   "cell_type": "code",
   "execution_count": 4,
   "id": "adc82fbd",
   "metadata": {},
   "outputs": [],
   "source": [
    "import dask.dataframe as dd\n",
    "from dask.diagnostics import ProgressBar"
   ]
  },
  {
   "cell_type": "code",
   "execution_count": 5,
   "id": "b982862f",
   "metadata": {},
   "outputs": [],
   "source": [
    "forbidden = dd.read_csv(\"../../data/cache/forbidden*.csv\")"
   ]
  },
  {
   "cell_type": "code",
   "execution_count": 6,
   "id": "af1fc4e8",
   "metadata": {},
   "outputs": [
    {
     "name": "stdout",
     "output_type": "stream",
     "text": [
      "[########################################] | 100% Completed | 734.02 ms\n"
     ]
    }
   ],
   "source": [
    "with ProgressBar():\n",
    "    all_forbidden = forbidden.compute()"
   ]
  },
  {
   "cell_type": "code",
   "execution_count": 7,
   "id": "642817c1",
   "metadata": {},
   "outputs": [],
   "source": [
    "all_forbidden.to_csv(f\"../../data/forbidden.csv\", index = False)"
   ]
  }
 ],
 "metadata": {
  "kernelspec": {
   "display_name": "forbidden",
   "language": "python",
   "name": "forbidden"
  },
  "language_info": {
   "codemirror_mode": {
    "name": "ipython",
    "version": 3
   },
   "file_extension": ".py",
   "mimetype": "text/x-python",
   "name": "python",
   "nbconvert_exporter": "python",
   "pygments_lexer": "ipython3",
   "version": "3.9.7"
  }
 },
 "nbformat": 4,
 "nbformat_minor": 5
}
