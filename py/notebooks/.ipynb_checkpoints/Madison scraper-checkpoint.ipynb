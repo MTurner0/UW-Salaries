{
 "cells": [
  {
   "cell_type": "code",
   "execution_count": 381,
   "id": "64e2faf2",
   "metadata": {},
   "outputs": [],
   "source": [
    "import pandas as pd\n",
    "\n",
    "from selenium import webdriver\n",
    "from selenium.webdriver.common.by import By\n",
    "from selenium.webdriver.support.ui import WebDriverWait\n",
    "from selenium.webdriver.support import expected_conditions as EC\n",
    "\n",
    "from bs4 import BeautifulSoup\n",
    "import requests\n",
    "\n",
    "from datetime import datetime\n",
    "from typing import Tuple\n",
    "import re\n",
    "from random import random\n",
    "from io import StringIO\n",
    "\n",
    "from tqdm.notebook import tqdm"
   ]
  },
  {
   "cell_type": "code",
   "execution_count": 125,
   "id": "c4f4132d",
   "metadata": {},
   "outputs": [],
   "source": [
    "from selenium import webdriver"
   ]
  },
  {
   "cell_type": "code",
   "execution_count": 130,
   "id": "dbac59fc",
   "metadata": {},
   "outputs": [],
   "source": [
    "from selenium import webdriver\n",
    "from selenium.webdriver.common.keys import Keys\n",
    "from selenium.webdriver.common.by import By\n",
    "\n",
    "driver = webdriver.Firefox()\n",
    "driver.get(\"http://www.python.org\")\n",
    "assert \"Python\" in driver.title\n",
    "elem = driver.find_element(By.NAME, \"q\")\n",
    "elem.clear()\n",
    "elem.send_keys(\"pycon\")\n",
    "elem.send_keys(Keys.RETURN)\n",
    "assert \"No results found.\" not in driver.page_source\n",
    "driver.close()"
   ]
  },
  {
   "cell_type": "markdown",
   "id": "25096b69",
   "metadata": {},
   "source": [
    "## Get profs"
   ]
  },
  {
   "cell_type": "code",
   "execution_count": 409,
   "id": "75fc63a8",
   "metadata": {},
   "outputs": [],
   "source": [
    "page = requests.get(\"https://stat.wisc.edu/people-main-faculty/\")"
   ]
  },
  {
   "cell_type": "code",
   "execution_count": 410,
   "id": "886aea99",
   "metadata": {},
   "outputs": [],
   "source": [
    "soup = BeautifulSoup(page.content, \"html.parser\")"
   ]
  },
  {
   "cell_type": "code",
   "execution_count": 411,
   "id": "c7a24932",
   "metadata": {},
   "outputs": [],
   "source": [
    "faculty = soup.find_all(\"a\", {\"class\": \"faculty-name\"})"
   ]
  },
  {
   "cell_type": "code",
   "execution_count": 422,
   "id": "cb66d3ca",
   "metadata": {},
   "outputs": [
    {
     "data": {
      "text/plain": [
       "['Cecile Ane',\n",
       " 'Joshua Cape',\n",
       " 'Rick Chappell',\n",
       " 'Peter Chien',\n",
       " 'Jessi Cisewski-Kehe',\n",
       " 'Sameer Deshpande',\n",
       " 'Nicolas Garcia Trillos',\n",
       " 'Yinqiu He',\n",
       " 'Hyunseung Kang',\n",
       " 'Sunduz Keles',\n",
       " 'Bret Larget',\n",
       " 'Keith Levin',\n",
       " 'Wei-Yin Loh',\n",
       " 'Michael Newton',\n",
       " 'Vivak Patel',\n",
       " ' Alejandra Quintos',\n",
       " 'Sebastian Raschka',\n",
       " 'Garvesh Raskutti',\n",
       " 'Karl Rohe',\n",
       " 'Kris Sankaran',\n",
       " 'Jun Shao',\n",
       " 'Miaoyan Wang',\n",
       " 'Yazhen Wang',\n",
       " 'Brian Yandell',\n",
       " 'Chunming Zhang',\n",
       " 'Zhengjun Zhang',\n",
       " 'Yiqiao Zhong',\n",
       " 'Jun Zhu',\n",
       " 'David Anderson',\n",
       " 'Karl Broman',\n",
       " 'Guanhua Chen ',\n",
       " 'Moo Chung',\n",
       " 'Kyle Cranmer',\n",
       " 'Jelena Diakonikolas',\n",
       " 'Ron Gangnon',\n",
       " 'Varun Jog',\n",
       " 'Christina Kendziorski',\n",
       " 'KyungMann Kim',\n",
       " 'Qiongshi Lu',\n",
       " 'Lu Mao',\n",
       " 'Robert Nowak',\n",
       " 'Yeonhee Park',\n",
       " 'Sebastien Roch',\n",
       " 'Timo Seppäläinen',\n",
       " 'Vikas Singh',\n",
       " 'Claudia Solis Lemus',\n",
       " 'Zheng-Zheng Tang',\n",
       " 'Menggang Yu',\n",
       " 'Jiwei Zhao',\n",
       " 'Douglas Bates',\n",
       " 'Murray Clayton',\n",
       " 'Rich Johnson',\n",
       " 'Rick Nordheim',\n",
       " 'Kam-Wah Tsui',\n",
       " 'Grace Wahba',\n",
       " 'Robert Wardrop']"
      ]
     },
     "execution_count": 422,
     "metadata": {},
     "output_type": "execute_result"
    }
   ],
   "source": [
    "[\n",
    "    f\"{name[1]} {name[0]}\"\n",
    "    for name in [\n",
    "        prof.text.replace(\"\\n\", \"\").strip().split(\", \")\n",
    "        for prof in faculty\n",
    "    ]\n",
    "]"
   ]
  },
  {
   "cell_type": "markdown",
   "id": "0671d0e7",
   "metadata": {},
   "source": [
    "## Get Salary Data"
   ]
  },
  {
   "cell_type": "code",
   "execution_count": 360,
   "id": "13eccc16",
   "metadata": {},
   "outputs": [],
   "source": [
    "def scrape_my_professor(prof_name: Tuple[str, str]):\n",
    "    \"\"\"\n",
    "    prof_name should be in Last, First order.\n",
    "    \"\"\"\n",
    "    with webdriver.Firefox() as driver:\n",
    "        if prof_name[1].startswith(\"Ric\"):\n",
    "            first_name = \"Richard\"\n",
    "        else:\n",
    "            first_name = prof_name[1]\n",
    "        driver.get(f'https://madison.com/uw-salary-database/html_e37ff025-9a87-5a31-91ea-b2eb50aba4cb.html#2018-uw-salaries/?view_20_page=1&view_20_filters=%5B%7B%22value%22:%22{first_name}%20{prof_name[0]}%22,%22field%22:%22field_104%22,%22operator%22:%22contains%22%7D,%7B%22field%22:%22field_106%22,%22operator%22:%22is%22,%22value%22:%22UW%20Madison%22%7D%5D&view_20_sort=field_107%7Cdesc')\n",
    "        table = driver.find_element(By.XPATH, '//*[@id=\"view_20\"]/div[2]/table')\n",
    "        table_text = table.text.replace(\"Fiscal year\\nName\\nTitle\\nDept Description\\nCampus\\nStart Date\\nTotal Pay\\nDetails\\n\", \"\")\n",
    "    if table_text == \"No Data\":\n",
    "        return []\n",
    "    else:\n",
    "        return [\n",
    "            string_parser(row, prof_name)\n",
    "            for row in\n",
    "            table_text.split(\"\\n\")\n",
    "        ]\n",
    "\n",
    "def string_parser(salary_string: str, prof_name: Tuple[str, str]) -> dict:\n",
    "    name_match = re.search(f\"{prof_name[1][0]}.*{prof_name[0]}\", salary_string)\n",
    "    dept_match = re.search(\"Professor.+/.+UW\", salary_string)\n",
    "    date_match = re.search(\"\\d{2}/\\d{2}/\\d{4}\", salary_string)\n",
    "    return {\n",
    "        \"Fiscal year\": int(salary_string[:name_match.span()[0]].strip()),\n",
    "        \"Name\": name_match.group(0),\n",
    "        \"Title\": salary_string[name_match.span()[1]:dept_match.span()[0] + 9].strip(),\n",
    "        \"Dept Description\": dept_match.group(0).replace(\"Professor \", \"\").replace(\" UW\", \"\"),\n",
    "        \"Campus\": salary_string[dept_match.span()[1] - 2:date_match.span()[0]].strip(),\n",
    "        \"Start Date\": datetime.strptime(date_match.group(0), \"%m/%d/%Y\"),\n",
    "        \"Total Pay\": float(salary_string[date_match.span()[1]:].strip().replace(\"$\", \"\").replace(\",\", \"\").replace(\" view\", \"\"))\n",
    "    }\n",
    "    "
   ]
  },
  {
   "cell_type": "code",
   "execution_count": 347,
   "id": "3fc07b18",
   "metadata": {},
   "outputs": [
    {
     "ename": "AttributeError",
     "evalue": "'NoneType' object has no attribute 'span'",
     "output_type": "error",
     "traceback": [
      "\u001b[0;31m---------------------------------------------------------------------------\u001b[0m",
      "\u001b[0;31mAttributeError\u001b[0m                            Traceback (most recent call last)",
      "Input \u001b[0;32mIn [347]\u001b[0m, in \u001b[0;36m<cell line: 1>\u001b[0;34m()\u001b[0m\n\u001b[0;32m----> 1\u001b[0m \u001b[43mscrape_my_professor\u001b[49m\u001b[43m(\u001b[49m\u001b[43m(\u001b[49m\u001b[38;5;124;43m\"\u001b[39;49m\u001b[38;5;124;43mJohnson\u001b[39;49m\u001b[38;5;124;43m\"\u001b[39;49m\u001b[43m,\u001b[49m\u001b[43m \u001b[49m\u001b[38;5;124;43m\"\u001b[39;49m\u001b[38;5;124;43mRich\u001b[39;49m\u001b[38;5;124;43m\"\u001b[39;49m\u001b[43m)\u001b[49m\u001b[43m)\u001b[49m\n",
      "Input \u001b[0;32mIn [345]\u001b[0m, in \u001b[0;36mscrape_my_professor\u001b[0;34m(prof_name)\u001b[0m\n\u001b[1;32m     10\u001b[0m     \u001b[38;5;28;01mreturn\u001b[39;00m []\n\u001b[1;32m     11\u001b[0m \u001b[38;5;28;01melse\u001b[39;00m:\n\u001b[0;32m---> 12\u001b[0m     \u001b[38;5;28;01mreturn\u001b[39;00m [\n\u001b[1;32m     13\u001b[0m         string_parser(row, prof_name)\n\u001b[1;32m     14\u001b[0m         \u001b[38;5;28;01mfor\u001b[39;00m row \u001b[38;5;129;01min\u001b[39;00m\n\u001b[1;32m     15\u001b[0m         table_text\u001b[38;5;241m.\u001b[39msplit(\u001b[38;5;124m\"\u001b[39m\u001b[38;5;130;01m\\n\u001b[39;00m\u001b[38;5;124m\"\u001b[39m)\n\u001b[1;32m     16\u001b[0m     ]\n",
      "Input \u001b[0;32mIn [345]\u001b[0m, in \u001b[0;36m<listcomp>\u001b[0;34m(.0)\u001b[0m\n\u001b[1;32m     10\u001b[0m     \u001b[38;5;28;01mreturn\u001b[39;00m []\n\u001b[1;32m     11\u001b[0m \u001b[38;5;28;01melse\u001b[39;00m:\n\u001b[1;32m     12\u001b[0m     \u001b[38;5;28;01mreturn\u001b[39;00m [\n\u001b[0;32m---> 13\u001b[0m         \u001b[43mstring_parser\u001b[49m\u001b[43m(\u001b[49m\u001b[43mrow\u001b[49m\u001b[43m,\u001b[49m\u001b[43m \u001b[49m\u001b[43mprof_name\u001b[49m\u001b[43m)\u001b[49m\n\u001b[1;32m     14\u001b[0m         \u001b[38;5;28;01mfor\u001b[39;00m row \u001b[38;5;129;01min\u001b[39;00m\n\u001b[1;32m     15\u001b[0m         table_text\u001b[38;5;241m.\u001b[39msplit(\u001b[38;5;124m\"\u001b[39m\u001b[38;5;130;01m\\n\u001b[39;00m\u001b[38;5;124m\"\u001b[39m)\n\u001b[1;32m     16\u001b[0m     ]\n",
      "Input \u001b[0;32mIn [345]\u001b[0m, in \u001b[0;36mstring_parser\u001b[0;34m(salary_string, prof_name)\u001b[0m\n\u001b[1;32m     20\u001b[0m dept_match \u001b[38;5;241m=\u001b[39m re\u001b[38;5;241m.\u001b[39msearch(\u001b[38;5;124m\"\u001b[39m\u001b[38;5;124mProfessor.+/.+UW\u001b[39m\u001b[38;5;124m\"\u001b[39m, salary_string)\n\u001b[1;32m     21\u001b[0m date_match \u001b[38;5;241m=\u001b[39m re\u001b[38;5;241m.\u001b[39msearch(\u001b[38;5;124m\"\u001b[39m\u001b[38;5;124m\\\u001b[39m\u001b[38;5;124md\u001b[39m\u001b[38;5;132;01m{2}\u001b[39;00m\u001b[38;5;124m/\u001b[39m\u001b[38;5;124m\\\u001b[39m\u001b[38;5;124md\u001b[39m\u001b[38;5;132;01m{2}\u001b[39;00m\u001b[38;5;124m/\u001b[39m\u001b[38;5;124m\\\u001b[39m\u001b[38;5;124md\u001b[39m\u001b[38;5;132;01m{4}\u001b[39;00m\u001b[38;5;124m\"\u001b[39m, salary_string)\n\u001b[1;32m     22\u001b[0m \u001b[38;5;28;01mreturn\u001b[39;00m {\n\u001b[1;32m     23\u001b[0m     \u001b[38;5;124m\"\u001b[39m\u001b[38;5;124mFiscal year\u001b[39m\u001b[38;5;124m\"\u001b[39m: \u001b[38;5;28mint\u001b[39m(salary_string[:name_match\u001b[38;5;241m.\u001b[39mspan()[\u001b[38;5;241m0\u001b[39m]]\u001b[38;5;241m.\u001b[39mstrip()),\n\u001b[1;32m     24\u001b[0m     \u001b[38;5;124m\"\u001b[39m\u001b[38;5;124mName\u001b[39m\u001b[38;5;124m\"\u001b[39m: name_match\u001b[38;5;241m.\u001b[39mgroup(\u001b[38;5;241m0\u001b[39m),\n\u001b[0;32m---> 25\u001b[0m     \u001b[38;5;124m\"\u001b[39m\u001b[38;5;124mTitle\u001b[39m\u001b[38;5;124m\"\u001b[39m: salary_string[name_match\u001b[38;5;241m.\u001b[39mspan()[\u001b[38;5;241m1\u001b[39m]:\u001b[43mdept_match\u001b[49m\u001b[38;5;241;43m.\u001b[39;49m\u001b[43mspan\u001b[49m()[\u001b[38;5;241m0\u001b[39m] \u001b[38;5;241m+\u001b[39m \u001b[38;5;241m9\u001b[39m]\u001b[38;5;241m.\u001b[39mstrip(),\n\u001b[1;32m     26\u001b[0m     \u001b[38;5;124m\"\u001b[39m\u001b[38;5;124mDept Description\u001b[39m\u001b[38;5;124m\"\u001b[39m: dept_match\u001b[38;5;241m.\u001b[39mgroup(\u001b[38;5;241m0\u001b[39m)\u001b[38;5;241m.\u001b[39mreplace(\u001b[38;5;124m\"\u001b[39m\u001b[38;5;124mProfessor \u001b[39m\u001b[38;5;124m\"\u001b[39m, \u001b[38;5;124m\"\u001b[39m\u001b[38;5;124m\"\u001b[39m)\u001b[38;5;241m.\u001b[39mreplace(\u001b[38;5;124m\"\u001b[39m\u001b[38;5;124m UW\u001b[39m\u001b[38;5;124m\"\u001b[39m, \u001b[38;5;124m\"\u001b[39m\u001b[38;5;124m\"\u001b[39m),\n\u001b[1;32m     27\u001b[0m     \u001b[38;5;124m\"\u001b[39m\u001b[38;5;124mCampus\u001b[39m\u001b[38;5;124m\"\u001b[39m: salary_string[dept_match\u001b[38;5;241m.\u001b[39mspan()[\u001b[38;5;241m1\u001b[39m] \u001b[38;5;241m-\u001b[39m \u001b[38;5;241m2\u001b[39m:date_match\u001b[38;5;241m.\u001b[39mspan()[\u001b[38;5;241m0\u001b[39m]]\u001b[38;5;241m.\u001b[39mstrip(),\n\u001b[1;32m     28\u001b[0m     \u001b[38;5;124m\"\u001b[39m\u001b[38;5;124mStart Date\u001b[39m\u001b[38;5;124m\"\u001b[39m: datetime\u001b[38;5;241m.\u001b[39mstrptime(date_match\u001b[38;5;241m.\u001b[39mgroup(\u001b[38;5;241m0\u001b[39m), \u001b[38;5;124m\"\u001b[39m\u001b[38;5;124m%\u001b[39m\u001b[38;5;124mm/\u001b[39m\u001b[38;5;132;01m%d\u001b[39;00m\u001b[38;5;124m/\u001b[39m\u001b[38;5;124m%\u001b[39m\u001b[38;5;124mY\u001b[39m\u001b[38;5;124m\"\u001b[39m),\n\u001b[1;32m     29\u001b[0m     \u001b[38;5;124m\"\u001b[39m\u001b[38;5;124mTotal Pay\u001b[39m\u001b[38;5;124m\"\u001b[39m: \u001b[38;5;28mfloat\u001b[39m(salary_string[date_match\u001b[38;5;241m.\u001b[39mspan()[\u001b[38;5;241m1\u001b[39m]:]\u001b[38;5;241m.\u001b[39mstrip()\u001b[38;5;241m.\u001b[39mreplace(\u001b[38;5;124m\"\u001b[39m\u001b[38;5;124m$\u001b[39m\u001b[38;5;124m\"\u001b[39m, \u001b[38;5;124m\"\u001b[39m\u001b[38;5;124m\"\u001b[39m)\u001b[38;5;241m.\u001b[39mreplace(\u001b[38;5;124m\"\u001b[39m\u001b[38;5;124m,\u001b[39m\u001b[38;5;124m\"\u001b[39m, \u001b[38;5;124m\"\u001b[39m\u001b[38;5;124m\"\u001b[39m)\u001b[38;5;241m.\u001b[39mreplace(\u001b[38;5;124m\"\u001b[39m\u001b[38;5;124m view\u001b[39m\u001b[38;5;124m\"\u001b[39m, \u001b[38;5;124m\"\u001b[39m\u001b[38;5;124m\"\u001b[39m))\n\u001b[1;32m     30\u001b[0m }\n",
      "\u001b[0;31mAttributeError\u001b[0m: 'NoneType' object has no attribute 'span'"
     ]
    }
   ],
   "source": [
    "scrape_my_professor((\"Johnson\", \"Rich\"))"
   ]
  },
  {
   "cell_type": "code",
   "execution_count": 330,
   "id": "3df4c353",
   "metadata": {},
   "outputs": [
    {
     "ename": "NoSuchElementException",
     "evalue": "Message: Unable to locate element: //*[@id=\"view_20\"]/div[2]/table\nStacktrace:\nRemoteError@chrome://remote/content/shared/RemoteError.jsm:12:1\nWebDriverError@chrome://remote/content/shared/webdriver/Errors.jsm:192:5\nNoSuchElementError@chrome://remote/content/shared/webdriver/Errors.jsm:404:5\nelement.find/</<@chrome://remote/content/marionette/element.js:291:16\n",
     "output_type": "error",
     "traceback": [
      "\u001b[0;31m---------------------------------------------------------------------------\u001b[0m",
      "\u001b[0;31mNoSuchElementException\u001b[0m                    Traceback (most recent call last)",
      "Input \u001b[0;32mIn [330]\u001b[0m, in \u001b[0;36m<cell line: 1>\u001b[0;34m()\u001b[0m\n\u001b[1;32m      1\u001b[0m \u001b[38;5;28;01mwith\u001b[39;00m webdriver\u001b[38;5;241m.\u001b[39mFirefox() \u001b[38;5;28;01mas\u001b[39;00m driver:\n\u001b[1;32m      2\u001b[0m         driver\u001b[38;5;241m.\u001b[39mget(\u001b[38;5;124m'\u001b[39m\u001b[38;5;124mhttps://docs.python.org/3/howto/regex.html#more-metacharacters\u001b[39m\u001b[38;5;124m'\u001b[39m)\n\u001b[0;32m----> 3\u001b[0m         table \u001b[38;5;241m=\u001b[39m \u001b[43mdriver\u001b[49m\u001b[38;5;241;43m.\u001b[39;49m\u001b[43mfind_element\u001b[49m\u001b[43m(\u001b[49m\u001b[43mBy\u001b[49m\u001b[38;5;241;43m.\u001b[39;49m\u001b[43mXPATH\u001b[49m\u001b[43m,\u001b[49m\u001b[43m \u001b[49m\u001b[38;5;124;43m'\u001b[39;49m\u001b[38;5;124;43m//*[@id=\u001b[39;49m\u001b[38;5;124;43m\"\u001b[39;49m\u001b[38;5;124;43mview_20\u001b[39;49m\u001b[38;5;124;43m\"\u001b[39;49m\u001b[38;5;124;43m]/div[2]/table\u001b[39;49m\u001b[38;5;124;43m'\u001b[39;49m\u001b[43m)\u001b[49m\n",
      "File \u001b[0;32m~/.pyenv/versions/forbidden/lib/python3.9/site-packages/selenium/webdriver/remote/webdriver.py:855\u001b[0m, in \u001b[0;36mWebDriver.find_element\u001b[0;34m(self, by, value)\u001b[0m\n\u001b[1;32m    852\u001b[0m     by \u001b[38;5;241m=\u001b[39m By\u001b[38;5;241m.\u001b[39mCSS_SELECTOR\n\u001b[1;32m    853\u001b[0m     value \u001b[38;5;241m=\u001b[39m \u001b[38;5;124m'\u001b[39m\u001b[38;5;124m[name=\u001b[39m\u001b[38;5;124m\"\u001b[39m\u001b[38;5;132;01m%s\u001b[39;00m\u001b[38;5;124m\"\u001b[39m\u001b[38;5;124m]\u001b[39m\u001b[38;5;124m'\u001b[39m \u001b[38;5;241m%\u001b[39m value\n\u001b[0;32m--> 855\u001b[0m \u001b[38;5;28;01mreturn\u001b[39;00m \u001b[38;5;28;43mself\u001b[39;49m\u001b[38;5;241;43m.\u001b[39;49m\u001b[43mexecute\u001b[49m\u001b[43m(\u001b[49m\u001b[43mCommand\u001b[49m\u001b[38;5;241;43m.\u001b[39;49m\u001b[43mFIND_ELEMENT\u001b[49m\u001b[43m,\u001b[49m\u001b[43m \u001b[49m\u001b[43m{\u001b[49m\n\u001b[1;32m    856\u001b[0m \u001b[43m    \u001b[49m\u001b[38;5;124;43m'\u001b[39;49m\u001b[38;5;124;43musing\u001b[39;49m\u001b[38;5;124;43m'\u001b[39;49m\u001b[43m:\u001b[49m\u001b[43m \u001b[49m\u001b[43mby\u001b[49m\u001b[43m,\u001b[49m\n\u001b[1;32m    857\u001b[0m \u001b[43m    \u001b[49m\u001b[38;5;124;43m'\u001b[39;49m\u001b[38;5;124;43mvalue\u001b[39;49m\u001b[38;5;124;43m'\u001b[39;49m\u001b[43m:\u001b[49m\u001b[43m \u001b[49m\u001b[43mvalue\u001b[49m\u001b[43m}\u001b[49m\u001b[43m)\u001b[49m[\u001b[38;5;124m'\u001b[39m\u001b[38;5;124mvalue\u001b[39m\u001b[38;5;124m'\u001b[39m]\n",
      "File \u001b[0;32m~/.pyenv/versions/forbidden/lib/python3.9/site-packages/selenium/webdriver/remote/webdriver.py:428\u001b[0m, in \u001b[0;36mWebDriver.execute\u001b[0;34m(self, driver_command, params)\u001b[0m\n\u001b[1;32m    426\u001b[0m response \u001b[38;5;241m=\u001b[39m \u001b[38;5;28mself\u001b[39m\u001b[38;5;241m.\u001b[39mcommand_executor\u001b[38;5;241m.\u001b[39mexecute(driver_command, params)\n\u001b[1;32m    427\u001b[0m \u001b[38;5;28;01mif\u001b[39;00m response:\n\u001b[0;32m--> 428\u001b[0m     \u001b[38;5;28;43mself\u001b[39;49m\u001b[38;5;241;43m.\u001b[39;49m\u001b[43merror_handler\u001b[49m\u001b[38;5;241;43m.\u001b[39;49m\u001b[43mcheck_response\u001b[49m\u001b[43m(\u001b[49m\u001b[43mresponse\u001b[49m\u001b[43m)\u001b[49m\n\u001b[1;32m    429\u001b[0m     response[\u001b[38;5;124m'\u001b[39m\u001b[38;5;124mvalue\u001b[39m\u001b[38;5;124m'\u001b[39m] \u001b[38;5;241m=\u001b[39m \u001b[38;5;28mself\u001b[39m\u001b[38;5;241m.\u001b[39m_unwrap_value(\n\u001b[1;32m    430\u001b[0m         response\u001b[38;5;241m.\u001b[39mget(\u001b[38;5;124m'\u001b[39m\u001b[38;5;124mvalue\u001b[39m\u001b[38;5;124m'\u001b[39m, \u001b[38;5;28;01mNone\u001b[39;00m))\n\u001b[1;32m    431\u001b[0m     \u001b[38;5;28;01mreturn\u001b[39;00m response\n",
      "File \u001b[0;32m~/.pyenv/versions/forbidden/lib/python3.9/site-packages/selenium/webdriver/remote/errorhandler.py:243\u001b[0m, in \u001b[0;36mErrorHandler.check_response\u001b[0;34m(self, response)\u001b[0m\n\u001b[1;32m    241\u001b[0m         alert_text \u001b[38;5;241m=\u001b[39m value[\u001b[38;5;124m'\u001b[39m\u001b[38;5;124malert\u001b[39m\u001b[38;5;124m'\u001b[39m]\u001b[38;5;241m.\u001b[39mget(\u001b[38;5;124m'\u001b[39m\u001b[38;5;124mtext\u001b[39m\u001b[38;5;124m'\u001b[39m)\n\u001b[1;32m    242\u001b[0m     \u001b[38;5;28;01mraise\u001b[39;00m exception_class(message, screen, stacktrace, alert_text)  \u001b[38;5;66;03m# type: ignore[call-arg]  # mypy is not smart enough here\u001b[39;00m\n\u001b[0;32m--> 243\u001b[0m \u001b[38;5;28;01mraise\u001b[39;00m exception_class(message, screen, stacktrace)\n",
      "\u001b[0;31mNoSuchElementException\u001b[0m: Message: Unable to locate element: //*[@id=\"view_20\"]/div[2]/table\nStacktrace:\nRemoteError@chrome://remote/content/shared/RemoteError.jsm:12:1\nWebDriverError@chrome://remote/content/shared/webdriver/Errors.jsm:192:5\nNoSuchElementError@chrome://remote/content/shared/webdriver/Errors.jsm:404:5\nelement.find/</<@chrome://remote/content/marionette/element.js:291:16\n"
     ]
    }
   ],
   "source": [
    "with webdriver.Firefox() as driver:\n",
    "        driver.get('https://docs.python.org/3/howto/regex.html#more-metacharacters')\n",
    "        table = driver.find_element(By.XPATH, '//*[@id=\"view_20\"]/div[2]/table')"
   ]
  },
  {
   "cell_type": "code",
   "execution_count": 353,
   "id": "5bd6aa45",
   "metadata": {
    "scrolled": true
   },
   "outputs": [
    {
     "data": {
      "text/plain": [
       "[{'Fiscal year': 2021,\n",
       "  'Name': 'Richard Chappell',\n",
       "  'Title': 'Professor',\n",
       "  'Dept Description': 'L&S/Statistics/Statistics',\n",
       "  'Campus': 'UW Madison',\n",
       "  'Start Date': datetime.datetime(1990, 8, 27, 0, 0),\n",
       "  'Total Pay': 207091.66},\n",
       " {'Fiscal year': 2020,\n",
       "  'Name': 'Richard Chappell',\n",
       "  'Title': 'Professor',\n",
       "  'Dept Description': 'L&S/Statistics/Statistics',\n",
       "  'Campus': 'UW Madison',\n",
       "  'Start Date': datetime.datetime(1990, 8, 27, 0, 0),\n",
       "  'Total Pay': 215705.83},\n",
       " {'Fiscal year': 2020,\n",
       "  'Name': 'Richard Chappell',\n",
       "  'Title': 'Professor',\n",
       "  'Dept Description': 'L&S/Statistics/Statistics',\n",
       "  'Campus': 'UW Madison',\n",
       "  'Start Date': datetime.datetime(1990, 8, 27, 0, 0),\n",
       "  'Total Pay': 208199.95},\n",
       " {'Fiscal year': 2019,\n",
       "  'Name': 'Richard Chappell',\n",
       "  'Title': 'Professor',\n",
       "  'Dept Description': 'L&S/Statistics/Statistics',\n",
       "  'Campus': 'UW Madison',\n",
       "  'Start Date': datetime.datetime(1990, 8, 27, 0, 0),\n",
       "  'Total Pay': 200084.77},\n",
       " {'Fiscal year': 2018,\n",
       "  'Name': 'Richard Chappell',\n",
       "  'Title': 'Professor',\n",
       "  'Dept Description': 'L&S/Statistics/Statistics',\n",
       "  'Campus': 'UW Madison',\n",
       "  'Start Date': datetime.datetime(1990, 8, 27, 0, 0),\n",
       "  'Total Pay': 189310.03},\n",
       " {'Fiscal year': 2017,\n",
       "  'Name': 'Richard Chappell',\n",
       "  'Title': 'Professor',\n",
       "  'Dept Description': 'L&S/Statistics/Statistics',\n",
       "  'Campus': 'UW Madison',\n",
       "  'Start Date': datetime.datetime(1990, 8, 27, 0, 0),\n",
       "  'Total Pay': 178487.21}]"
      ]
     },
     "execution_count": 353,
     "metadata": {},
     "output_type": "execute_result"
    }
   ],
   "source": [
    "scrape_my_professor((\"Chappell\", \"Rick\"))"
   ]
  },
  {
   "cell_type": "code",
   "execution_count": 362,
   "id": "c3a80442",
   "metadata": {},
   "outputs": [
    {
     "data": {
      "application/vnd.jupyter.widget-view+json": {
       "model_id": "d73e9484c2244dc5959949dffc4481cd",
       "version_major": 2,
       "version_minor": 0
      },
      "text/plain": [
       "  0%|          | 0/55 [00:00<?, ?it/s]"
      ]
     },
     "metadata": {},
     "output_type": "display_data"
    },
    {
     "name": "stdout",
     "output_type": "stream",
     "text": [
      "Message: Unable to locate element: //*[@id=\"view_20\"]/div[2]/table\n",
      "Stacktrace:\n",
      "RemoteError@chrome://remote/content/shared/RemoteError.jsm:12:1\n",
      "WebDriverError@chrome://remote/content/shared/webdriver/Errors.jsm:192:5\n",
      "NoSuchElementError@chrome://remote/content/shared/webdriver/Errors.jsm:404:5\n",
      "element.find/</<@chrome://remote/content/marionette/element.js:291:16\n",
      "\n",
      "Message: Unable to locate element: //*[@id=\"view_20\"]/div[2]/table\n",
      "Stacktrace:\n",
      "RemoteError@chrome://remote/content/shared/RemoteError.jsm:12:1\n",
      "WebDriverError@chrome://remote/content/shared/webdriver/Errors.jsm:192:5\n",
      "NoSuchElementError@chrome://remote/content/shared/webdriver/Errors.jsm:404:5\n",
      "element.find/</<@chrome://remote/content/marionette/element.js:291:16\n",
      "\n",
      "Message: Unable to locate element: //*[@id=\"view_20\"]/div[2]/table\n",
      "Stacktrace:\n",
      "RemoteError@chrome://remote/content/shared/RemoteError.jsm:12:1\n",
      "WebDriverError@chrome://remote/content/shared/webdriver/Errors.jsm:192:5\n",
      "NoSuchElementError@chrome://remote/content/shared/webdriver/Errors.jsm:404:5\n",
      "element.find/</<@chrome://remote/content/marionette/element.js:291:16\n",
      "\n",
      "Message: Unable to locate element: //*[@id=\"view_20\"]/div[2]/table\n",
      "Stacktrace:\n",
      "RemoteError@chrome://remote/content/shared/RemoteError.jsm:12:1\n",
      "WebDriverError@chrome://remote/content/shared/webdriver/Errors.jsm:192:5\n",
      "NoSuchElementError@chrome://remote/content/shared/webdriver/Errors.jsm:404:5\n",
      "element.find/</<@chrome://remote/content/marionette/element.js:291:16\n",
      "\n",
      "Message: Unable to locate element: //*[@id=\"view_20\"]/div[2]/table\n",
      "Stacktrace:\n",
      "RemoteError@chrome://remote/content/shared/RemoteError.jsm:12:1\n",
      "WebDriverError@chrome://remote/content/shared/webdriver/Errors.jsm:192:5\n",
      "NoSuchElementError@chrome://remote/content/shared/webdriver/Errors.jsm:404:5\n",
      "element.find/</<@chrome://remote/content/marionette/element.js:291:16\n",
      "\n",
      "Message: Unable to locate element: //*[@id=\"view_20\"]/div[2]/table\n",
      "Stacktrace:\n",
      "RemoteError@chrome://remote/content/shared/RemoteError.jsm:12:1\n",
      "WebDriverError@chrome://remote/content/shared/webdriver/Errors.jsm:192:5\n",
      "NoSuchElementError@chrome://remote/content/shared/webdriver/Errors.jsm:404:5\n",
      "element.find/</<@chrome://remote/content/marionette/element.js:291:16\n",
      "\n",
      "Message: Unable to locate element: //*[@id=\"view_20\"]/div[2]/table\n",
      "Stacktrace:\n",
      "RemoteError@chrome://remote/content/shared/RemoteError.jsm:12:1\n",
      "WebDriverError@chrome://remote/content/shared/webdriver/Errors.jsm:192:5\n",
      "NoSuchElementError@chrome://remote/content/shared/webdriver/Errors.jsm:404:5\n",
      "element.find/</<@chrome://remote/content/marionette/element.js:291:16\n",
      "\n",
      "'NoneType' object has no attribute 'span'\n",
      "[('Cape', 'Joshua'), ('Chien', 'Peter'), ('Deshpande', 'Sameer'), ('He', 'Yinqiu'), ('Keles', 'Sunduz'), ('Levin', 'Keith'), ('Newton', 'Michael'), ('Quintos', ' Alejandra'), ('Raskutti', 'Garvesh'), ('Sankaran', 'Kris'), ('Shao', 'Jun'), ('Wang', 'Yazhen'), ('Zhang', 'Chunming'), ('Zhong', 'Yiqiao'), ('Anderson', 'David'), ('Chen ', 'Guanhua'), ('Cranmer', 'Kyle'), ('Gangnon', 'Ron'), ('Kendziorski', 'Christina'), ('Kim', 'KyungMann'), ('Lu', 'Qiongshi'), ('Nowak', 'Robert'), ('Park', 'Yeonhee'), ('Seppäläinen', 'Timo'), ('Solis Lemus', 'Claudia'), ('Tang', 'Zheng-Zheng'), ('Zhao', 'Jiwei'), ('Bates', 'Douglas'), ('Johnson', 'Rich'), ('Tsui', 'Kam-Wah'), ('Wardrop', 'Robert')]\n"
     ]
    },
    {
     "data": {
      "application/vnd.jupyter.widget-view+json": {
       "model_id": "386a103b7494409eb843c603fdc16f3e",
       "version_major": 2,
       "version_minor": 0
      },
      "text/plain": [
       "  0%|          | 0/31 [00:00<?, ?it/s]"
      ]
     },
     "metadata": {},
     "output_type": "display_data"
    },
    {
     "name": "stdout",
     "output_type": "stream",
     "text": [
      "'NoneType' object has no attribute 'span'\n",
      "'NoneType' object has no attribute 'span'\n",
      "Message: Unable to locate element: //*[@id=\"view_20\"]/div[2]/table\n",
      "Stacktrace:\n",
      "RemoteError@chrome://remote/content/shared/RemoteError.jsm:12:1\n",
      "WebDriverError@chrome://remote/content/shared/webdriver/Errors.jsm:192:5\n",
      "NoSuchElementError@chrome://remote/content/shared/webdriver/Errors.jsm:404:5\n",
      "element.find/</<@chrome://remote/content/marionette/element.js:291:16\n",
      "\n",
      "Message: Unable to locate element: //*[@id=\"view_20\"]/div[2]/table\n",
      "Stacktrace:\n",
      "RemoteError@chrome://remote/content/shared/RemoteError.jsm:12:1\n",
      "WebDriverError@chrome://remote/content/shared/webdriver/Errors.jsm:192:5\n",
      "NoSuchElementError@chrome://remote/content/shared/webdriver/Errors.jsm:404:5\n",
      "element.find/</<@chrome://remote/content/marionette/element.js:291:16\n",
      "\n",
      "'NoneType' object has no attribute 'span'\n",
      "[('Chien', 'Peter'), ('He', 'Yinqiu'), ('Levin', 'Keith'), ('Quintos', ' Alejandra'), ('Sankaran', 'Kris'), ('Wang', 'Yazhen'), ('Zhong', 'Yiqiao'), ('Chen ', 'Guanhua'), ('Cranmer', 'Kyle'), ('Kendziorski', 'Christina'), ('Lu', 'Qiongshi'), ('Park', 'Yeonhee'), ('Seppäläinen', 'Timo'), ('Tang', 'Zheng-Zheng'), ('Bates', 'Douglas'), ('Tsui', 'Kam-Wah')]\n"
     ]
    },
    {
     "data": {
      "application/vnd.jupyter.widget-view+json": {
       "model_id": "f7ee982d72eb47e68acc5a1f8037940f",
       "version_major": 2,
       "version_minor": 0
      },
      "text/plain": [
       "  0%|          | 0/16 [00:00<?, ?it/s]"
      ]
     },
     "metadata": {},
     "output_type": "display_data"
    },
    {
     "name": "stdout",
     "output_type": "stream",
     "text": [
      "Message: Unable to locate element: //*[@id=\"view_20\"]/div[2]/table\n",
      "Stacktrace:\n",
      "RemoteError@chrome://remote/content/shared/RemoteError.jsm:12:1\n",
      "WebDriverError@chrome://remote/content/shared/webdriver/Errors.jsm:192:5\n",
      "NoSuchElementError@chrome://remote/content/shared/webdriver/Errors.jsm:404:5\n",
      "element.find/</<@chrome://remote/content/marionette/element.js:291:16\n",
      "\n",
      "[('He', 'Yinqiu'), ('Quintos', ' Alejandra'), ('Wang', 'Yazhen'), ('Chen ', 'Guanhua'), ('Cranmer', 'Kyle'), ('Lu', 'Qiongshi'), ('Seppäläinen', 'Timo'), ('Bates', 'Douglas')]\n"
     ]
    },
    {
     "data": {
      "application/vnd.jupyter.widget-view+json": {
       "model_id": "d4ee9ecf5e4a4d159065258ed3ed10ed",
       "version_major": 2,
       "version_minor": 0
      },
      "text/plain": [
       "  0%|          | 0/8 [00:00<?, ?it/s]"
      ]
     },
     "metadata": {},
     "output_type": "display_data"
    },
    {
     "name": "stdout",
     "output_type": "stream",
     "text": [
      "Message: Unable to locate element: //*[@id=\"view_20\"]/div[2]/table\n",
      "Stacktrace:\n",
      "RemoteError@chrome://remote/content/shared/RemoteError.jsm:12:1\n",
      "WebDriverError@chrome://remote/content/shared/webdriver/Errors.jsm:192:5\n",
      "NoSuchElementError@chrome://remote/content/shared/webdriver/Errors.jsm:404:5\n",
      "element.find/</<@chrome://remote/content/marionette/element.js:291:16\n",
      "\n",
      "Message: Unable to locate element: //*[@id=\"view_20\"]/div[2]/table\n",
      "Stacktrace:\n",
      "RemoteError@chrome://remote/content/shared/RemoteError.jsm:12:1\n",
      "WebDriverError@chrome://remote/content/shared/webdriver/Errors.jsm:192:5\n",
      "NoSuchElementError@chrome://remote/content/shared/webdriver/Errors.jsm:404:5\n",
      "element.find/</<@chrome://remote/content/marionette/element.js:291:16\n",
      "\n",
      "[('Quintos', ' Alejandra'), ('Chen ', 'Guanhua'), ('Cranmer', 'Kyle'), ('Seppäläinen', 'Timo'), ('Bates', 'Douglas')]\n"
     ]
    },
    {
     "data": {
      "application/vnd.jupyter.widget-view+json": {
       "model_id": "35b3ffd6b7a545baaed6ba9472640ef6",
       "version_major": 2,
       "version_minor": 0
      },
      "text/plain": [
       "  0%|          | 0/5 [00:00<?, ?it/s]"
      ]
     },
     "metadata": {},
     "output_type": "display_data"
    },
    {
     "name": "stdout",
     "output_type": "stream",
     "text": [
      "[('Chen ', 'Guanhua'), ('Seppäläinen', 'Timo')]\n"
     ]
    },
    {
     "data": {
      "application/vnd.jupyter.widget-view+json": {
       "model_id": "effdf5e3628e400e919cf94c16e53128",
       "version_major": 2,
       "version_minor": 0
      },
      "text/plain": [
       "  0%|          | 0/2 [00:00<?, ?it/s]"
      ]
     },
     "metadata": {},
     "output_type": "display_data"
    },
    {
     "name": "stdout",
     "output_type": "stream",
     "text": [
      "[('Seppäläinen', 'Timo')]\n"
     ]
    },
    {
     "data": {
      "application/vnd.jupyter.widget-view+json": {
       "model_id": "9e56bf518d3f4dad8dd3c2aba170a316",
       "version_major": 2,
       "version_minor": 0
      },
      "text/plain": [
       "  0%|          | 0/1 [00:00<?, ?it/s]"
      ]
     },
     "metadata": {},
     "output_type": "display_data"
    },
    {
     "name": "stdout",
     "output_type": "stream",
     "text": [
      "[]\n"
     ]
    }
   ],
   "source": [
    "stats_dept = []\n",
    "cache = faculty\n",
    "while len(cache) > 0:\n",
    "    for prof in tqdm(cache):\n",
    "        try:\n",
    "            stats_dept += scrape_my_professor(prof)\n",
    "            cache.remove(prof)\n",
    "        except AttributeError as ex:\n",
    "            print(ex)\n",
    "            cache.remove(prof)\n",
    "            continue\n",
    "        except Exception as ex:\n",
    "            print(ex)\n",
    "            continue\n",
    "    print(cache)\n",
    "    "
   ]
  },
  {
   "cell_type": "code",
   "execution_count": null,
   "id": "4c2b6d10",
   "metadata": {},
   "outputs": [],
   "source": []
  },
  {
   "cell_type": "code",
   "execution_count": 318,
   "id": "175bb18a",
   "metadata": {},
   "outputs": [
    {
     "data": {
      "text/plain": [
       "'/home/margaret/Projects/The-Forbidden-Dataset/py/notebooks'"
      ]
     },
     "execution_count": 318,
     "metadata": {},
     "output_type": "execute_result"
    }
   ],
   "source": [
    "%pwd"
   ]
  },
  {
   "cell_type": "code",
   "execution_count": 365,
   "id": "3eb329dc",
   "metadata": {
    "scrolled": true
   },
   "outputs": [
    {
     "data": {
      "text/html": [
       "<div>\n",
       "<style scoped>\n",
       "    .dataframe tbody tr th:only-of-type {\n",
       "        vertical-align: middle;\n",
       "    }\n",
       "\n",
       "    .dataframe tbody tr th {\n",
       "        vertical-align: top;\n",
       "    }\n",
       "\n",
       "    .dataframe thead th {\n",
       "        text-align: right;\n",
       "    }\n",
       "</style>\n",
       "<table border=\"1\" class=\"dataframe\">\n",
       "  <thead>\n",
       "    <tr style=\"text-align: right;\">\n",
       "      <th></th>\n",
       "      <th>Fiscal year</th>\n",
       "      <th>Name</th>\n",
       "      <th>Title</th>\n",
       "      <th>Dept Description</th>\n",
       "      <th>Campus</th>\n",
       "      <th>Start Date</th>\n",
       "      <th>Total Pay</th>\n",
       "    </tr>\n",
       "  </thead>\n",
       "  <tbody>\n",
       "    <tr>\n",
       "      <th>0</th>\n",
       "      <td>2021</td>\n",
       "      <td>Richard Chappell</td>\n",
       "      <td>Professor</td>\n",
       "      <td>L&amp;S/Statistics/Statistics</td>\n",
       "      <td>UW Madison</td>\n",
       "      <td>1990-08-27</td>\n",
       "      <td>207091.66</td>\n",
       "    </tr>\n",
       "    <tr>\n",
       "      <th>1</th>\n",
       "      <td>2020</td>\n",
       "      <td>Richard Chappell</td>\n",
       "      <td>Professor</td>\n",
       "      <td>L&amp;S/Statistics/Statistics</td>\n",
       "      <td>UW Madison</td>\n",
       "      <td>1990-08-27</td>\n",
       "      <td>215705.83</td>\n",
       "    </tr>\n",
       "    <tr>\n",
       "      <th>2</th>\n",
       "      <td>2020</td>\n",
       "      <td>Richard Chappell</td>\n",
       "      <td>Professor</td>\n",
       "      <td>L&amp;S/Statistics/Statistics</td>\n",
       "      <td>UW Madison</td>\n",
       "      <td>1990-08-27</td>\n",
       "      <td>208199.95</td>\n",
       "    </tr>\n",
       "    <tr>\n",
       "      <th>3</th>\n",
       "      <td>2019</td>\n",
       "      <td>Richard Chappell</td>\n",
       "      <td>Professor</td>\n",
       "      <td>L&amp;S/Statistics/Statistics</td>\n",
       "      <td>UW Madison</td>\n",
       "      <td>1990-08-27</td>\n",
       "      <td>200084.77</td>\n",
       "    </tr>\n",
       "    <tr>\n",
       "      <th>4</th>\n",
       "      <td>2018</td>\n",
       "      <td>Richard Chappell</td>\n",
       "      <td>Professor</td>\n",
       "      <td>L&amp;S/Statistics/Statistics</td>\n",
       "      <td>UW Madison</td>\n",
       "      <td>1990-08-27</td>\n",
       "      <td>189310.03</td>\n",
       "    </tr>\n",
       "    <tr>\n",
       "      <th>...</th>\n",
       "      <td>...</td>\n",
       "      <td>...</td>\n",
       "      <td>...</td>\n",
       "      <td>...</td>\n",
       "      <td>...</td>\n",
       "      <td>...</td>\n",
       "      <td>...</td>\n",
       "    </tr>\n",
       "    <tr>\n",
       "      <th>178</th>\n",
       "      <td>2021</td>\n",
       "      <td>Guanhua Chen</td>\n",
       "      <td>Assistant Professor</td>\n",
       "      <td>Smph/Biostat &amp; Med I/Biost&amp;M I</td>\n",
       "      <td>UW Madison</td>\n",
       "      <td>2017-08-01</td>\n",
       "      <td>128618.46</td>\n",
       "    </tr>\n",
       "    <tr>\n",
       "      <th>179</th>\n",
       "      <td>2020</td>\n",
       "      <td>Guanhua Chen</td>\n",
       "      <td>Assistant Professor</td>\n",
       "      <td>Smph/Biostat &amp; Med I/Biost&amp;M I</td>\n",
       "      <td>UW Madison</td>\n",
       "      <td>2017-08-01</td>\n",
       "      <td>126096.48</td>\n",
       "    </tr>\n",
       "    <tr>\n",
       "      <th>180</th>\n",
       "      <td>2020</td>\n",
       "      <td>Guanhua Chen</td>\n",
       "      <td>Assistant Professor</td>\n",
       "      <td>Smph/Biostat &amp; Med I/Biost&amp;M I</td>\n",
       "      <td>UW Madison</td>\n",
       "      <td>2017-08-01</td>\n",
       "      <td>127035.36</td>\n",
       "    </tr>\n",
       "    <tr>\n",
       "      <th>181</th>\n",
       "      <td>2019</td>\n",
       "      <td>Guanhua Chen</td>\n",
       "      <td>Assistant Professor</td>\n",
       "      <td>Smph/Biostat &amp; Med I/Biost&amp;M I</td>\n",
       "      <td>UW Madison</td>\n",
       "      <td>2017-08-01</td>\n",
       "      <td>123624.00</td>\n",
       "    </tr>\n",
       "    <tr>\n",
       "      <th>182</th>\n",
       "      <td>2018</td>\n",
       "      <td>Guanhua Chen</td>\n",
       "      <td>Assistant Professor</td>\n",
       "      <td>Smph/Biostat &amp; Med I/Biost&amp;M I</td>\n",
       "      <td>UW Madison</td>\n",
       "      <td>2017-08-01</td>\n",
       "      <td>110000.00</td>\n",
       "    </tr>\n",
       "  </tbody>\n",
       "</table>\n",
       "<p>183 rows × 7 columns</p>\n",
       "</div>"
      ],
      "text/plain": [
       "     Fiscal year              Name                Title  \\\n",
       "0           2021  Richard Chappell            Professor   \n",
       "1           2020  Richard Chappell            Professor   \n",
       "2           2020  Richard Chappell            Professor   \n",
       "3           2019  Richard Chappell            Professor   \n",
       "4           2018  Richard Chappell            Professor   \n",
       "..           ...               ...                  ...   \n",
       "178         2021     Guanhua Chen   Assistant Professor   \n",
       "179         2020     Guanhua Chen   Assistant Professor   \n",
       "180         2020     Guanhua Chen   Assistant Professor   \n",
       "181         2019     Guanhua Chen   Assistant Professor   \n",
       "182         2018     Guanhua Chen   Assistant Professor   \n",
       "\n",
       "                   Dept Description      Campus Start Date  Total Pay  \n",
       "0         L&S/Statistics/Statistics  UW Madison 1990-08-27  207091.66  \n",
       "1         L&S/Statistics/Statistics  UW Madison 1990-08-27  215705.83  \n",
       "2         L&S/Statistics/Statistics  UW Madison 1990-08-27  208199.95  \n",
       "3         L&S/Statistics/Statistics  UW Madison 1990-08-27  200084.77  \n",
       "4         L&S/Statistics/Statistics  UW Madison 1990-08-27  189310.03  \n",
       "..                              ...         ...        ...        ...  \n",
       "178  Smph/Biostat & Med I/Biost&M I  UW Madison 2017-08-01  128618.46  \n",
       "179  Smph/Biostat & Med I/Biost&M I  UW Madison 2017-08-01  126096.48  \n",
       "180  Smph/Biostat & Med I/Biost&M I  UW Madison 2017-08-01  127035.36  \n",
       "181  Smph/Biostat & Med I/Biost&M I  UW Madison 2017-08-01  123624.00  \n",
       "182  Smph/Biostat & Med I/Biost&M I  UW Madison 2017-08-01  110000.00  \n",
       "\n",
       "[183 rows x 7 columns]"
      ]
     },
     "execution_count": 365,
     "metadata": {},
     "output_type": "execute_result"
    }
   ],
   "source": [
    "pd.DataFrame(stats_dept).to_csv(\"../../data/forbidden.csv\", index = False)"
   ]
  },
  {
   "cell_type": "code",
   "execution_count": null,
   "id": "d44f4779",
   "metadata": {},
   "outputs": [],
   "source": [
    "base_string = f'https://madison.com/uw-salary-database/html_e37ff025-9a87-5a31-91ea-b2eb50aba4cb.html#2018-uw-salaries/?view_20_page=1&view_20_filters=%5B%7B%22value%22:%22{Bret}%20{Larget}%22,%22field%22:%22field_104%22,%22operator%22:%22contains%22%7D,%7B%22field%22:%22field_106%22,%22operator%22:%22is%22,%22value%22:%22UW%20Madison%22%7D%5D&view_20_sort=field_107%7Cdesc'\n"
   ]
  },
  {
   "cell_type": "code",
   "execution_count": 132,
   "id": "6f80c210",
   "metadata": {},
   "outputs": [],
   "source": [
    "bret_string = 'https://madison.com/uw-salary-database/html_e37ff025-9a87-5a31-91ea-b2eb50aba4cb.html#2018-uw-salaries/?view_20_page=1&view_20_filters=%5B%7B%22value%22:%22Bret%20Larget%22,%22field%22:%22field_104%22,%22operator%22:%22contains%22%7D,%7B%22field%22:%22field_106%22,%22operator%22:%22is%22,%22value%22:%22UW%20Madison%22%7D%5D&view_20_sort=field_107%7Cdesc'\n",
    "\n",
    "cecile_string = 'https://madison.com/uw-salary-database/html_e37ff025-9a87-5a31-91ea-b2eb50aba4cb.html#2018-uw-salaries/?view_20_page=1&view_20_filters=%5B%7B%22value%22:%22Cecile%20Ane%22,%22field%22:%22field_104%22,%22operator%22:%22contains%22%7D,%7B%22field%22:%22field_106%22,%22operator%22:%22is%22,%22value%22:%22UW%20Madison%22%7D%5D&view_20_sort=field_107%7Cdesc'"
   ]
  },
  {
   "cell_type": "code",
   "execution_count": 133,
   "id": "29279326",
   "metadata": {},
   "outputs": [],
   "source": [
    "header = {\n",
    "    \"User-Agent\": \"Mozilla/5.0 (X11; Linux x86_64) AppleWebKit/537.36 (KHTML, like Gecko) Chrome/104.0.5112.126 Safari/537.36\"\n",
    "}"
   ]
  },
  {
   "cell_type": "code",
   "execution_count": 142,
   "id": "5170a4bf",
   "metadata": {},
   "outputs": [
    {
     "data": {
      "text/plain": [
       "'Fiscal year\\nName\\nTitle\\nDept Description\\nCampus\\nStart Date\\nTotal Pay\\nDetails\\n2021 Bret Larget Professor L&S/Botany/Botany UW Madison 08/01/2002 $154,335.51 view\\n2020 Bret Larget Professor L&S/Botany/Botany UW Madison 08/01/2002 $154,116.02 view\\n2020 Bret Larget Professor L&S/Statistics/Statistics UW Madison 08/01/2002 $186,555.45 view\\n2019 Bret Larget Professor L&S/Botany/Botany UW Madison 08/01/2002 $127,983.02 view\\n2018 Bret Larget Professor L&S/Botany/Botany UW Madison 08/01/2002 $124,230.96 view\\n2017 Bret Larget Professor L&S/Botany/Botany UW Madison 08/01/2002 $127,681.82 view'"
      ]
     },
     "execution_count": 142,
     "metadata": {},
     "output_type": "execute_result"
    }
   ],
   "source": [
    "with webdriver.Firefox() as driver:\n",
    "    driver.get(bret_string)\n",
    "    ressy = driver.find_element(By.XPATH, \"//*[@id='view_20']/div[2]/table\")\n",
    "    true_ressy = ressy.text"
   ]
  },
  {
   "cell_type": "code",
   "execution_count": 177,
   "id": "919f675b",
   "metadata": {},
   "outputs": [
    {
     "data": {
      "text/plain": [
       "[{'Fiscal year': 2021,\n",
       "  'Name': 'Bret Larget',\n",
       "  'Title': 'Professor',\n",
       "  'Dept Description': 'L&S/Botany/Botany',\n",
       "  'Campus': 'UW Madison',\n",
       "  'Start Date': datetime.datetime(2002, 8, 1, 0, 0),\n",
       "  'Total Pay': 154335.51},\n",
       " {'Fiscal year': 2020,\n",
       "  'Name': 'Bret Larget',\n",
       "  'Title': 'Professor',\n",
       "  'Dept Description': 'L&S/Botany/Botany',\n",
       "  'Campus': 'UW Madison',\n",
       "  'Start Date': datetime.datetime(2002, 8, 1, 0, 0),\n",
       "  'Total Pay': 154116.02},\n",
       " {'Fiscal year': 2020,\n",
       "  'Name': 'Bret Larget',\n",
       "  'Title': 'Professor',\n",
       "  'Dept Description': 'L&S/Statistics/Statistics',\n",
       "  'Campus': 'UW Madison',\n",
       "  'Start Date': datetime.datetime(2002, 8, 1, 0, 0),\n",
       "  'Total Pay': 186555.45},\n",
       " {'Fiscal year': 2019,\n",
       "  'Name': 'Bret Larget',\n",
       "  'Title': 'Professor',\n",
       "  'Dept Description': 'L&S/Botany/Botany',\n",
       "  'Campus': 'UW Madison',\n",
       "  'Start Date': datetime.datetime(2002, 8, 1, 0, 0),\n",
       "  'Total Pay': 127983.02},\n",
       " {'Fiscal year': 2018,\n",
       "  'Name': 'Bret Larget',\n",
       "  'Title': 'Professor',\n",
       "  'Dept Description': 'L&S/Botany/Botany',\n",
       "  'Campus': 'UW Madison',\n",
       "  'Start Date': datetime.datetime(2002, 8, 1, 0, 0),\n",
       "  'Total Pay': 124230.96},\n",
       " {'Fiscal year': 2017,\n",
       "  'Name': 'Bret Larget',\n",
       "  'Title': 'Professor',\n",
       "  'Dept Description': 'L&S/Botany/Botany',\n",
       "  'Campus': 'UW Madison',\n",
       "  'Start Date': datetime.datetime(2002, 8, 1, 0, 0),\n",
       "  'Total Pay': 127681.82}]"
      ]
     },
     "execution_count": 177,
     "metadata": {},
     "output_type": "execute_result"
    }
   ],
   "source": [
    "[\n",
    "    {\n",
    "        \"Fiscal year\": int(row.split()[0]),\n",
    "        \"Name\": f\"{row.split()[1]} {row.split()[2]}\",\n",
    "        \"Title\": row.split()[3],\n",
    "        \"Dept Description\": row.split()[4],\n",
    "        \"Campus\": f\"{row.split()[5]} {row.split()[6]}\",\n",
    "        \"Start Date\": datetime.strptime(row.split()[7], \"%m/%d/%Y\"),\n",
    "        \"Total Pay\": float(row.split()[8].replace(\"$\", \"\").replace(\",\", \"\"))\n",
    "    } \n",
    "    for row in\n",
    "    true_ressy.replace(\"Fiscal year\\nName\\nTitle\\nDept Description\\nCampus\\nStart Date\\nTotal Pay\\nDetails\\n\", \"\").split(\"\\n\")\n",
    "]"
   ]
  },
  {
   "cell_type": "code",
   "execution_count": 308,
   "id": "21930511",
   "metadata": {},
   "outputs": [
    {
     "data": {
      "text/plain": [
       "{'Fiscal year': 2021,\n",
       " 'Name': 'Yeonhee Park',\n",
       " 'Title': 'Assistant Professor',\n",
       " 'Dept Description': 'Smph/Biostat & Med I/Biost&M I',\n",
       " 'Campus': 'UW Madison',\n",
       " 'Start Date': datetime.datetime(2020, 8, 1, 0, 0),\n",
       " 'Total Pay': 106566.65}"
      ]
     },
     "execution_count": 308,
     "metadata": {},
     "output_type": "execute_result"
    }
   ],
   "source": [
    "string_parser(test_parse_strings[1], (\"Park\", \"Yeonhee\"))"
   ]
  },
  {
   "cell_type": "code",
   "execution_count": 224,
   "id": "f453d2e6",
   "metadata": {},
   "outputs": [],
   "source": [
    "test_parse_strings = [\n",
    "        \"2020 Sebastien Roch Professor L&S/Mathematics/Math UW Madison 06/28/2012 $196,807.52\",\n",
    "        \"2021 Yeonhee Park Assistant Professor Smph/Biostat & Med I/Biost&M I UW Madison 08/01/2020 $106,566.65\"\n",
    "    ]"
   ]
  },
  {
   "cell_type": "code",
   "execution_count": 341,
   "id": "d547b838",
   "metadata": {},
   "outputs": [
    {
     "data": {
      "text/plain": [
       "<re.Match object; span=(5, 19), match='Sebastien Roch'>"
      ]
     },
     "execution_count": 341,
     "metadata": {},
     "output_type": "execute_result"
    }
   ],
   "source": [
    "name = (\"Roch\",\"Sebastien\")\n",
    "re.search(f\"{name[1][0]}.* Roch\", test_parse_strings[0])"
   ]
  },
  {
   "cell_type": "code",
   "execution_count": 336,
   "id": "78b4abea",
   "metadata": {},
   "outputs": [
    {
     "data": {
      "text/plain": [
       "<re.Match object; span=(5, 19), match='Sebastien Roch'>"
      ]
     },
     "execution_count": 336,
     "metadata": {},
     "output_type": "execute_result"
    }
   ],
   "source": [
    "re.search(\"S.* Roch\", test_parse_strings[0])"
   ]
  },
  {
   "cell_type": "code",
   "execution_count": 286,
   "id": "12771678",
   "metadata": {},
   "outputs": [],
   "source": [
    "dept_match = re.search(\"Professor.+/.+UW\", test_parse_strings[0])"
   ]
  },
  {
   "cell_type": "code",
   "execution_count": 302,
   "id": "e2e0a54e",
   "metadata": {},
   "outputs": [
    {
     "data": {
      "text/plain": [
       "'UW Madison'"
      ]
     },
     "execution_count": 302,
     "metadata": {},
     "output_type": "execute_result"
    }
   ],
   "source": [
    "test_parse_strings[0][dept_match.span()[1] - 2:date_match.span()[0]].strip()"
   ]
  },
  {
   "cell_type": "code",
   "execution_count": 301,
   "id": "80b1ace3",
   "metadata": {},
   "outputs": [],
   "source": [
    "date_match = re.search(\"\\d{2}/\\d{2}/[\\w\\s]*\", test_parse_strings[0])"
   ]
  },
  {
   "cell_type": "code",
   "execution_count": 264,
   "id": "200fb70f",
   "metadata": {},
   "outputs": [
    {
     "data": {
      "text/plain": [
       "'$106,566.65'"
      ]
     },
     "execution_count": 264,
     "metadata": {},
     "output_type": "execute_result"
    }
   ],
   "source": [
    "test_parse_strings[1][date_match.span()[1]:].strip()"
   ]
  },
  {
   "cell_type": "code",
   "execution_count": 245,
   "id": "cafe79ac",
   "metadata": {},
   "outputs": [
    {
     "name": "stdout",
     "output_type": "stream",
     "text": [
      "<re.Match object; span=(0, 10), match='UW Madison'>\n"
     ]
    }
   ],
   "source": [
    "print(re.search(\"UW\\s[A-Za-z]*\", \"UW Madison 06/\"))"
   ]
  },
  {
   "cell_type": "code",
   "execution_count": 396,
   "id": "a3db8b84",
   "metadata": {},
   "outputs": [
    {
     "name": "stdout",
     "output_type": "stream",
     "text": [
      "0\n",
      "1\n",
      "2\n",
      "3\n",
      "4\n"
     ]
    }
   ],
   "source": [
    "for page in range(5):\n",
    "    print(page)"
   ]
  },
  {
   "cell_type": "markdown",
   "id": "8727db4f",
   "metadata": {},
   "source": [
    "## All your salary R belong 2 me"
   ]
  },
  {
   "cell_type": "code",
   "execution_count": 366,
   "id": "51ea50ac",
   "metadata": {},
   "outputs": [],
   "source": [
    "url = \"https://madison.com/uw-salary-database/html_e37ff025-9a87-5a31-91ea-b2eb50aba4cb.html#2018-uw-salaries/?view_20_page=1&view_20_filters=%5B%7B%22field%22:%22field_106%22,%22operator%22:%22is%22,%22value%22:%22UW%20Madison%22%7D%5D&view_20_sort=field_107%7Cdesc&view_20_per_page=1000\"\n"
   ]
  },
  {
   "cell_type": "code",
   "execution_count": 397,
   "id": "fe33d240",
   "metadata": {},
   "outputs": [],
   "source": [
    "cache = [\n",
    "    i + 1\n",
    "    for i in range(114)\n",
    "]"
   ]
  },
  {
   "cell_type": "code",
   "execution_count": 399,
   "id": "74d1bcc3",
   "metadata": {},
   "outputs": [
    {
     "data": {
      "application/vnd.jupyter.widget-view+json": {
       "model_id": "61f3fbb9050e47f7b91c9b2588fc3ac4",
       "version_major": 2,
       "version_minor": 0
      },
      "text/plain": [
       "  0%|          | 0/114 [00:00<?, ?it/s]"
      ]
     },
     "metadata": {},
     "output_type": "display_data"
    },
    {
     "name": "stdout",
     "output_type": "stream",
     "text": [
      "Message: Unable to locate element: //*[@id=\"view_20\"]/div[2]/table\n",
      "Stacktrace:\n",
      "RemoteError@chrome://remote/content/shared/RemoteError.jsm:12:1\n",
      "WebDriverError@chrome://remote/content/shared/webdriver/Errors.jsm:192:5\n",
      "NoSuchElementError@chrome://remote/content/shared/webdriver/Errors.jsm:404:5\n",
      "element.find/</<@chrome://remote/content/marionette/element.js:291:16\n",
      "\n",
      "Message: Unable to locate element: //*[@id=\"view_20\"]/div[2]/table\n",
      "Stacktrace:\n",
      "RemoteError@chrome://remote/content/shared/RemoteError.jsm:12:1\n",
      "WebDriverError@chrome://remote/content/shared/webdriver/Errors.jsm:192:5\n",
      "NoSuchElementError@chrome://remote/content/shared/webdriver/Errors.jsm:404:5\n",
      "element.find/</<@chrome://remote/content/marionette/element.js:291:16\n",
      "\n",
      "Message: Unable to locate element: //*[@id=\"view_20\"]/div[2]/table\n",
      "Stacktrace:\n",
      "RemoteError@chrome://remote/content/shared/RemoteError.jsm:12:1\n",
      "WebDriverError@chrome://remote/content/shared/webdriver/Errors.jsm:192:5\n",
      "NoSuchElementError@chrome://remote/content/shared/webdriver/Errors.jsm:404:5\n",
      "element.find/</<@chrome://remote/content/marionette/element.js:291:16\n",
      "\n",
      "Message: Unable to locate element: //*[@id=\"view_20\"]/div[2]/table\n",
      "Stacktrace:\n",
      "RemoteError@chrome://remote/content/shared/RemoteError.jsm:12:1\n",
      "WebDriverError@chrome://remote/content/shared/webdriver/Errors.jsm:192:5\n",
      "NoSuchElementError@chrome://remote/content/shared/webdriver/Errors.jsm:404:5\n",
      "element.find/</<@chrome://remote/content/marionette/element.js:291:16\n",
      "\n",
      "Message: Unable to locate element: //*[@id=\"view_20\"]/div[2]/table\n",
      "Stacktrace:\n",
      "RemoteError@chrome://remote/content/shared/RemoteError.jsm:12:1\n",
      "WebDriverError@chrome://remote/content/shared/webdriver/Errors.jsm:192:5\n",
      "NoSuchElementError@chrome://remote/content/shared/webdriver/Errors.jsm:404:5\n",
      "element.find/</<@chrome://remote/content/marionette/element.js:291:16\n",
      "\n",
      "Message: Unable to locate element: //*[@id=\"view_20\"]/div[2]/table\n",
      "Stacktrace:\n",
      "RemoteError@chrome://remote/content/shared/RemoteError.jsm:12:1\n",
      "WebDriverError@chrome://remote/content/shared/webdriver/Errors.jsm:192:5\n",
      "NoSuchElementError@chrome://remote/content/shared/webdriver/Errors.jsm:404:5\n",
      "element.find/</<@chrome://remote/content/marionette/element.js:291:16\n",
      "\n",
      "Message: Unable to locate element: //*[@id=\"view_20\"]/div[2]/table\n",
      "Stacktrace:\n",
      "RemoteError@chrome://remote/content/shared/RemoteError.jsm:12:1\n",
      "WebDriverError@chrome://remote/content/shared/webdriver/Errors.jsm:192:5\n",
      "NoSuchElementError@chrome://remote/content/shared/webdriver/Errors.jsm:404:5\n",
      "element.find/</<@chrome://remote/content/marionette/element.js:291:16\n",
      "\n",
      "Message: Unable to locate element: //*[@id=\"view_20\"]/div[2]/table\n",
      "Stacktrace:\n",
      "RemoteError@chrome://remote/content/shared/RemoteError.jsm:12:1\n",
      "WebDriverError@chrome://remote/content/shared/webdriver/Errors.jsm:192:5\n",
      "NoSuchElementError@chrome://remote/content/shared/webdriver/Errors.jsm:404:5\n",
      "element.find/</<@chrome://remote/content/marionette/element.js:291:16\n",
      "\n",
      "Message: Unable to locate element: //*[@id=\"view_20\"]/div[2]/table\n",
      "Stacktrace:\n",
      "RemoteError@chrome://remote/content/shared/RemoteError.jsm:12:1\n",
      "WebDriverError@chrome://remote/content/shared/webdriver/Errors.jsm:192:5\n",
      "NoSuchElementError@chrome://remote/content/shared/webdriver/Errors.jsm:404:5\n",
      "element.find/</<@chrome://remote/content/marionette/element.js:291:16\n",
      "\n",
      "Message: Unable to locate element: //*[@id=\"view_20\"]/div[2]/table\n",
      "Stacktrace:\n",
      "RemoteError@chrome://remote/content/shared/RemoteError.jsm:12:1\n",
      "WebDriverError@chrome://remote/content/shared/webdriver/Errors.jsm:192:5\n",
      "NoSuchElementError@chrome://remote/content/shared/webdriver/Errors.jsm:404:5\n",
      "element.find/</<@chrome://remote/content/marionette/element.js:291:16\n",
      "\n",
      "Message: Unable to locate element: //*[@id=\"view_20\"]/div[2]/table\n",
      "Stacktrace:\n",
      "RemoteError@chrome://remote/content/shared/RemoteError.jsm:12:1\n",
      "WebDriverError@chrome://remote/content/shared/webdriver/Errors.jsm:192:5\n",
      "NoSuchElementError@chrome://remote/content/shared/webdriver/Errors.jsm:404:5\n",
      "element.find/</<@chrome://remote/content/marionette/element.js:291:16\n",
      "\n",
      "Message: Unable to locate element: //*[@id=\"view_20\"]/div[2]/table\n",
      "Stacktrace:\n",
      "RemoteError@chrome://remote/content/shared/RemoteError.jsm:12:1\n",
      "WebDriverError@chrome://remote/content/shared/webdriver/Errors.jsm:192:5\n",
      "NoSuchElementError@chrome://remote/content/shared/webdriver/Errors.jsm:404:5\n",
      "element.find/</<@chrome://remote/content/marionette/element.js:291:16\n",
      "\n",
      "Message: Unable to locate element: //*[@id=\"view_20\"]/div[2]/table\n",
      "Stacktrace:\n",
      "RemoteError@chrome://remote/content/shared/RemoteError.jsm:12:1\n",
      "WebDriverError@chrome://remote/content/shared/webdriver/Errors.jsm:192:5\n",
      "NoSuchElementError@chrome://remote/content/shared/webdriver/Errors.jsm:404:5\n",
      "element.find/</<@chrome://remote/content/marionette/element.js:291:16\n",
      "\n",
      "Message: Unable to locate element: //*[@id=\"view_20\"]/div[2]/table\n",
      "Stacktrace:\n",
      "RemoteError@chrome://remote/content/shared/RemoteError.jsm:12:1\n",
      "WebDriverError@chrome://remote/content/shared/webdriver/Errors.jsm:192:5\n",
      "NoSuchElementError@chrome://remote/content/shared/webdriver/Errors.jsm:404:5\n",
      "element.find/</<@chrome://remote/content/marionette/element.js:291:16\n",
      "\n",
      "[2, 4, 6, 8, 10, 12, 14, 16, 18, 20, 22, 24, 26, 28, 30, 32, 34, 36, 37, 38, 39, 41, 42, 44, 46, 48, 50, 51, 53, 55, 57, 59, 61, 63, 65, 67, 69, 71, 72, 73, 75, 77, 79, 80, 82, 84, 85, 87, 89, 90, 92, 94, 96, 97, 98, 99, 101, 102, 104, 106, 108, 110, 112, 114]\n"
     ]
    },
    {
     "data": {
      "application/vnd.jupyter.widget-view+json": {
       "model_id": "79345ab02a3e42548589ee0d3d99fe24",
       "version_major": 2,
       "version_minor": 0
      },
      "text/plain": [
       "  0%|          | 0/64 [00:00<?, ?it/s]"
      ]
     },
     "metadata": {},
     "output_type": "display_data"
    },
    {
     "name": "stdout",
     "output_type": "stream",
     "text": [
      "Message: Unable to locate element: //*[@id=\"view_20\"]/div[2]/table\n",
      "Stacktrace:\n",
      "RemoteError@chrome://remote/content/shared/RemoteError.jsm:12:1\n",
      "WebDriverError@chrome://remote/content/shared/webdriver/Errors.jsm:192:5\n",
      "NoSuchElementError@chrome://remote/content/shared/webdriver/Errors.jsm:404:5\n",
      "element.find/</<@chrome://remote/content/marionette/element.js:291:16\n",
      "\n",
      "Message: Unable to locate element: //*[@id=\"view_20\"]/div[2]/table\n",
      "Stacktrace:\n",
      "RemoteError@chrome://remote/content/shared/RemoteError.jsm:12:1\n",
      "WebDriverError@chrome://remote/content/shared/webdriver/Errors.jsm:192:5\n",
      "NoSuchElementError@chrome://remote/content/shared/webdriver/Errors.jsm:404:5\n",
      "element.find/</<@chrome://remote/content/marionette/element.js:291:16\n",
      "\n",
      "Message: Unable to locate element: //*[@id=\"view_20\"]/div[2]/table\n",
      "Stacktrace:\n",
      "RemoteError@chrome://remote/content/shared/RemoteError.jsm:12:1\n",
      "WebDriverError@chrome://remote/content/shared/webdriver/Errors.jsm:192:5\n",
      "NoSuchElementError@chrome://remote/content/shared/webdriver/Errors.jsm:404:5\n",
      "element.find/</<@chrome://remote/content/marionette/element.js:291:16\n",
      "\n",
      "Message: Unable to locate element: //*[@id=\"view_20\"]/div[2]/table\n",
      "Stacktrace:\n",
      "RemoteError@chrome://remote/content/shared/RemoteError.jsm:12:1\n",
      "WebDriverError@chrome://remote/content/shared/webdriver/Errors.jsm:192:5\n",
      "NoSuchElementError@chrome://remote/content/shared/webdriver/Errors.jsm:404:5\n",
      "element.find/</<@chrome://remote/content/marionette/element.js:291:16\n",
      "\n",
      "Message: Unable to locate element: //*[@id=\"view_20\"]/div[2]/table\n",
      "Stacktrace:\n",
      "RemoteError@chrome://remote/content/shared/RemoteError.jsm:12:1\n",
      "WebDriverError@chrome://remote/content/shared/webdriver/Errors.jsm:192:5\n",
      "NoSuchElementError@chrome://remote/content/shared/webdriver/Errors.jsm:404:5\n",
      "element.find/</<@chrome://remote/content/marionette/element.js:291:16\n",
      "\n",
      "Message: Unable to locate element: //*[@id=\"view_20\"]/div[2]/table\n",
      "Stacktrace:\n",
      "RemoteError@chrome://remote/content/shared/RemoteError.jsm:12:1\n",
      "WebDriverError@chrome://remote/content/shared/webdriver/Errors.jsm:192:5\n",
      "NoSuchElementError@chrome://remote/content/shared/webdriver/Errors.jsm:404:5\n",
      "element.find/</<@chrome://remote/content/marionette/element.js:291:16\n",
      "\n",
      "Message: Unable to locate element: //*[@id=\"view_20\"]/div[2]/table\n",
      "Stacktrace:\n",
      "RemoteError@chrome://remote/content/shared/RemoteError.jsm:12:1\n",
      "WebDriverError@chrome://remote/content/shared/webdriver/Errors.jsm:192:5\n",
      "NoSuchElementError@chrome://remote/content/shared/webdriver/Errors.jsm:404:5\n",
      "element.find/</<@chrome://remote/content/marionette/element.js:291:16\n",
      "\n",
      "Message: Unable to locate element: //*[@id=\"view_20\"]/div[2]/table\n",
      "Stacktrace:\n",
      "RemoteError@chrome://remote/content/shared/RemoteError.jsm:12:1\n",
      "WebDriverError@chrome://remote/content/shared/webdriver/Errors.jsm:192:5\n",
      "NoSuchElementError@chrome://remote/content/shared/webdriver/Errors.jsm:404:5\n",
      "element.find/</<@chrome://remote/content/marionette/element.js:291:16\n",
      "\n",
      "Message: Unable to locate element: //*[@id=\"view_20\"]/div[2]/table\n",
      "Stacktrace:\n",
      "RemoteError@chrome://remote/content/shared/RemoteError.jsm:12:1\n",
      "WebDriverError@chrome://remote/content/shared/webdriver/Errors.jsm:192:5\n",
      "NoSuchElementError@chrome://remote/content/shared/webdriver/Errors.jsm:404:5\n",
      "element.find/</<@chrome://remote/content/marionette/element.js:291:16\n",
      "\n",
      "Message: Unable to locate element: //*[@id=\"view_20\"]/div[2]/table\n",
      "Stacktrace:\n",
      "RemoteError@chrome://remote/content/shared/RemoteError.jsm:12:1\n",
      "WebDriverError@chrome://remote/content/shared/webdriver/Errors.jsm:192:5\n",
      "NoSuchElementError@chrome://remote/content/shared/webdriver/Errors.jsm:404:5\n",
      "element.find/</<@chrome://remote/content/marionette/element.js:291:16\n",
      "\n",
      "Message: Unable to locate element: //*[@id=\"view_20\"]/div[2]/table\n",
      "Stacktrace:\n",
      "RemoteError@chrome://remote/content/shared/RemoteError.jsm:12:1\n",
      "WebDriverError@chrome://remote/content/shared/webdriver/Errors.jsm:192:5\n",
      "NoSuchElementError@chrome://remote/content/shared/webdriver/Errors.jsm:404:5\n",
      "element.find/</<@chrome://remote/content/marionette/element.js:291:16\n",
      "\n",
      "Message: Unable to locate element: //*[@id=\"view_20\"]/div[2]/table\n",
      "Stacktrace:\n",
      "RemoteError@chrome://remote/content/shared/RemoteError.jsm:12:1\n",
      "WebDriverError@chrome://remote/content/shared/webdriver/Errors.jsm:192:5\n",
      "NoSuchElementError@chrome://remote/content/shared/webdriver/Errors.jsm:404:5\n",
      "element.find/</<@chrome://remote/content/marionette/element.js:291:16\n",
      "\n",
      "Message: Unable to locate element: //*[@id=\"view_20\"]/div[2]/table\n",
      "Stacktrace:\n",
      "RemoteError@chrome://remote/content/shared/RemoteError.jsm:12:1\n",
      "WebDriverError@chrome://remote/content/shared/webdriver/Errors.jsm:192:5\n",
      "NoSuchElementError@chrome://remote/content/shared/webdriver/Errors.jsm:404:5\n",
      "element.find/</<@chrome://remote/content/marionette/element.js:291:16\n",
      "\n",
      "Message: Unable to locate element: //*[@id=\"view_20\"]/div[2]/table\n",
      "Stacktrace:\n",
      "RemoteError@chrome://remote/content/shared/RemoteError.jsm:12:1\n",
      "WebDriverError@chrome://remote/content/shared/webdriver/Errors.jsm:192:5\n",
      "NoSuchElementError@chrome://remote/content/shared/webdriver/Errors.jsm:404:5\n",
      "element.find/</<@chrome://remote/content/marionette/element.js:291:16\n",
      "\n",
      "Message: Unable to locate element: //*[@id=\"view_20\"]/div[2]/table\n",
      "Stacktrace:\n",
      "RemoteError@chrome://remote/content/shared/RemoteError.jsm:12:1\n",
      "WebDriverError@chrome://remote/content/shared/webdriver/Errors.jsm:192:5\n",
      "NoSuchElementError@chrome://remote/content/shared/webdriver/Errors.jsm:404:5\n",
      "element.find/</<@chrome://remote/content/marionette/element.js:291:16\n",
      "\n",
      "Message: Unable to locate element: //*[@id=\"view_20\"]/div[2]/table\n",
      "Stacktrace:\n",
      "RemoteError@chrome://remote/content/shared/RemoteError.jsm:12:1\n",
      "WebDriverError@chrome://remote/content/shared/webdriver/Errors.jsm:192:5\n",
      "NoSuchElementError@chrome://remote/content/shared/webdriver/Errors.jsm:404:5\n",
      "element.find/</<@chrome://remote/content/marionette/element.js:291:16\n",
      "\n",
      "Message: Unable to locate element: //*[@id=\"view_20\"]/div[2]/table\n",
      "Stacktrace:\n",
      "RemoteError@chrome://remote/content/shared/RemoteError.jsm:12:1\n",
      "WebDriverError@chrome://remote/content/shared/webdriver/Errors.jsm:192:5\n",
      "NoSuchElementError@chrome://remote/content/shared/webdriver/Errors.jsm:404:5\n",
      "element.find/</<@chrome://remote/content/marionette/element.js:291:16\n",
      "\n",
      "Message: Unable to locate element: //*[@id=\"view_20\"]/div[2]/table\n",
      "Stacktrace:\n",
      "RemoteError@chrome://remote/content/shared/RemoteError.jsm:12:1\n",
      "WebDriverError@chrome://remote/content/shared/webdriver/Errors.jsm:192:5\n",
      "NoSuchElementError@chrome://remote/content/shared/webdriver/Errors.jsm:404:5\n",
      "element.find/</<@chrome://remote/content/marionette/element.js:291:16\n",
      "\n",
      "Message: Unable to locate element: //*[@id=\"view_20\"]/div[2]/table\n",
      "Stacktrace:\n",
      "RemoteError@chrome://remote/content/shared/RemoteError.jsm:12:1\n",
      "WebDriverError@chrome://remote/content/shared/webdriver/Errors.jsm:192:5\n",
      "NoSuchElementError@chrome://remote/content/shared/webdriver/Errors.jsm:404:5\n",
      "element.find/</<@chrome://remote/content/marionette/element.js:291:16\n",
      "\n",
      "[2, 4, 8, 12, 16, 18, 20, 22, 26, 30, 32, 34, 37, 39, 42, 44, 46, 50, 53, 55, 57, 59, 61, 63, 67, 71, 73, 77, 80, 82, 85, 87, 89, 92, 96, 98, 101, 102, 106, 110, 112]\n"
     ]
    },
    {
     "data": {
      "application/vnd.jupyter.widget-view+json": {
       "model_id": "8c0c0324c91142fb8d1ffc612088eb82",
       "version_major": 2,
       "version_minor": 0
      },
      "text/plain": [
       "  0%|          | 0/41 [00:00<?, ?it/s]"
      ]
     },
     "metadata": {},
     "output_type": "display_data"
    },
    {
     "name": "stdout",
     "output_type": "stream",
     "text": [
      "Message: Unable to locate element: //*[@id=\"view_20\"]/div[2]/table\n",
      "Stacktrace:\n",
      "RemoteError@chrome://remote/content/shared/RemoteError.jsm:12:1\n",
      "WebDriverError@chrome://remote/content/shared/webdriver/Errors.jsm:192:5\n",
      "NoSuchElementError@chrome://remote/content/shared/webdriver/Errors.jsm:404:5\n",
      "element.find/</<@chrome://remote/content/marionette/element.js:291:16\n",
      "\n",
      "Message: Unable to locate element: //*[@id=\"view_20\"]/div[2]/table\n",
      "Stacktrace:\n",
      "RemoteError@chrome://remote/content/shared/RemoteError.jsm:12:1\n",
      "WebDriverError@chrome://remote/content/shared/webdriver/Errors.jsm:192:5\n",
      "NoSuchElementError@chrome://remote/content/shared/webdriver/Errors.jsm:404:5\n",
      "element.find/</<@chrome://remote/content/marionette/element.js:291:16\n",
      "\n",
      "Message: Unable to locate element: //*[@id=\"view_20\"]/div[2]/table\n",
      "Stacktrace:\n",
      "RemoteError@chrome://remote/content/shared/RemoteError.jsm:12:1\n",
      "WebDriverError@chrome://remote/content/shared/webdriver/Errors.jsm:192:5\n",
      "NoSuchElementError@chrome://remote/content/shared/webdriver/Errors.jsm:404:5\n",
      "element.find/</<@chrome://remote/content/marionette/element.js:291:16\n",
      "\n",
      "Message: Unable to locate element: //*[@id=\"view_20\"]/div[2]/table\n",
      "Stacktrace:\n",
      "RemoteError@chrome://remote/content/shared/RemoteError.jsm:12:1\n",
      "WebDriverError@chrome://remote/content/shared/webdriver/Errors.jsm:192:5\n",
      "NoSuchElementError@chrome://remote/content/shared/webdriver/Errors.jsm:404:5\n",
      "element.find/</<@chrome://remote/content/marionette/element.js:291:16\n",
      "\n",
      "Message: Unable to locate element: //*[@id=\"view_20\"]/div[2]/table\n",
      "Stacktrace:\n",
      "RemoteError@chrome://remote/content/shared/RemoteError.jsm:12:1\n",
      "WebDriverError@chrome://remote/content/shared/webdriver/Errors.jsm:192:5\n",
      "NoSuchElementError@chrome://remote/content/shared/webdriver/Errors.jsm:404:5\n",
      "element.find/</<@chrome://remote/content/marionette/element.js:291:16\n",
      "\n",
      "Message: Unable to locate element: //*[@id=\"view_20\"]/div[2]/table\n",
      "Stacktrace:\n",
      "RemoteError@chrome://remote/content/shared/RemoteError.jsm:12:1\n",
      "WebDriverError@chrome://remote/content/shared/webdriver/Errors.jsm:192:5\n",
      "NoSuchElementError@chrome://remote/content/shared/webdriver/Errors.jsm:404:5\n",
      "element.find/</<@chrome://remote/content/marionette/element.js:291:16\n",
      "\n",
      "[4, 12, 18, 20, 26, 32, 34, 39, 44, 50, 55, 59, 63, 71, 73, 80, 85, 89, 96, 98, 102, 106, 110]\n"
     ]
    },
    {
     "data": {
      "application/vnd.jupyter.widget-view+json": {
       "model_id": "c032ed27089c48648fb637ecbfdebf9a",
       "version_major": 2,
       "version_minor": 0
      },
      "text/plain": [
       "  0%|          | 0/23 [00:00<?, ?it/s]"
      ]
     },
     "metadata": {},
     "output_type": "display_data"
    },
    {
     "name": "stdout",
     "output_type": "stream",
     "text": [
      "Message: Unable to locate element: //*[@id=\"view_20\"]/div[2]/table\n",
      "Stacktrace:\n",
      "RemoteError@chrome://remote/content/shared/RemoteError.jsm:12:1\n",
      "WebDriverError@chrome://remote/content/shared/webdriver/Errors.jsm:192:5\n",
      "NoSuchElementError@chrome://remote/content/shared/webdriver/Errors.jsm:404:5\n",
      "element.find/</<@chrome://remote/content/marionette/element.js:291:16\n",
      "\n",
      "Message: Unable to locate element: //*[@id=\"view_20\"]/div[2]/table\n",
      "Stacktrace:\n",
      "RemoteError@chrome://remote/content/shared/RemoteError.jsm:12:1\n",
      "WebDriverError@chrome://remote/content/shared/webdriver/Errors.jsm:192:5\n",
      "NoSuchElementError@chrome://remote/content/shared/webdriver/Errors.jsm:404:5\n",
      "element.find/</<@chrome://remote/content/marionette/element.js:291:16\n",
      "\n",
      "Message: Unable to locate element: //*[@id=\"view_20\"]/div[2]/table\n",
      "Stacktrace:\n",
      "RemoteError@chrome://remote/content/shared/RemoteError.jsm:12:1\n",
      "WebDriverError@chrome://remote/content/shared/webdriver/Errors.jsm:192:5\n",
      "NoSuchElementError@chrome://remote/content/shared/webdriver/Errors.jsm:404:5\n",
      "element.find/</<@chrome://remote/content/marionette/element.js:291:16\n",
      "\n",
      "[4, 12, 18, 26, 34, 44, 55, 63, 73, 85, 96, 102, 110]\n"
     ]
    },
    {
     "data": {
      "application/vnd.jupyter.widget-view+json": {
       "model_id": "86a37db15a22468e947c5ee2f1b51ea9",
       "version_major": 2,
       "version_minor": 0
      },
      "text/plain": [
       "  0%|          | 0/13 [00:00<?, ?it/s]"
      ]
     },
     "metadata": {},
     "output_type": "display_data"
    },
    {
     "name": "stdout",
     "output_type": "stream",
     "text": [
      "Message: Unable to locate element: //*[@id=\"view_20\"]/div[2]/table\n",
      "Stacktrace:\n",
      "RemoteError@chrome://remote/content/shared/RemoteError.jsm:12:1\n",
      "WebDriverError@chrome://remote/content/shared/webdriver/Errors.jsm:192:5\n",
      "NoSuchElementError@chrome://remote/content/shared/webdriver/Errors.jsm:404:5\n",
      "element.find/</<@chrome://remote/content/marionette/element.js:291:16\n",
      "\n",
      "Message: Unable to locate element: //*[@id=\"view_20\"]/div[2]/table\n",
      "Stacktrace:\n",
      "RemoteError@chrome://remote/content/shared/RemoteError.jsm:12:1\n",
      "WebDriverError@chrome://remote/content/shared/webdriver/Errors.jsm:192:5\n",
      "NoSuchElementError@chrome://remote/content/shared/webdriver/Errors.jsm:404:5\n",
      "element.find/</<@chrome://remote/content/marionette/element.js:291:16\n",
      "\n",
      "Message: Unable to locate element: //*[@id=\"view_20\"]/div[2]/table\n",
      "Stacktrace:\n",
      "RemoteError@chrome://remote/content/shared/RemoteError.jsm:12:1\n",
      "WebDriverError@chrome://remote/content/shared/webdriver/Errors.jsm:192:5\n",
      "NoSuchElementError@chrome://remote/content/shared/webdriver/Errors.jsm:404:5\n",
      "element.find/</<@chrome://remote/content/marionette/element.js:291:16\n",
      "\n",
      "[4, 18, 26, 44, 63, 85, 96, 110]\n"
     ]
    },
    {
     "data": {
      "application/vnd.jupyter.widget-view+json": {
       "model_id": "92e86ac3063743879edcef7cff0172d9",
       "version_major": 2,
       "version_minor": 0
      },
      "text/plain": [
       "  0%|          | 0/8 [00:00<?, ?it/s]"
      ]
     },
     "metadata": {},
     "output_type": "display_data"
    },
    {
     "name": "stdout",
     "output_type": "stream",
     "text": [
      "[18, 44, 85, 110]\n"
     ]
    },
    {
     "data": {
      "application/vnd.jupyter.widget-view+json": {
       "model_id": "7cc01763d035420288c83fb9185d90c0",
       "version_major": 2,
       "version_minor": 0
      },
      "text/plain": [
       "  0%|          | 0/4 [00:00<?, ?it/s]"
      ]
     },
     "metadata": {},
     "output_type": "display_data"
    },
    {
     "name": "stdout",
     "output_type": "stream",
     "text": [
      "Message: Unable to locate element: //*[@id=\"view_20\"]/div[2]/table\n",
      "Stacktrace:\n",
      "RemoteError@chrome://remote/content/shared/RemoteError.jsm:12:1\n",
      "WebDriverError@chrome://remote/content/shared/webdriver/Errors.jsm:192:5\n",
      "NoSuchElementError@chrome://remote/content/shared/webdriver/Errors.jsm:404:5\n",
      "element.find/</<@chrome://remote/content/marionette/element.js:291:16\n",
      "\n",
      "[18, 85]\n"
     ]
    },
    {
     "data": {
      "application/vnd.jupyter.widget-view+json": {
       "model_id": "30a2294c4330410c9fa7bd24f3b83eb0",
       "version_major": 2,
       "version_minor": 0
      },
      "text/plain": [
       "  0%|          | 0/2 [00:00<?, ?it/s]"
      ]
     },
     "metadata": {},
     "output_type": "display_data"
    },
    {
     "name": "stdout",
     "output_type": "stream",
     "text": [
      "Message: Unable to locate element: //*[@id=\"view_20\"]/div[2]/table\n",
      "Stacktrace:\n",
      "RemoteError@chrome://remote/content/shared/RemoteError.jsm:12:1\n",
      "WebDriverError@chrome://remote/content/shared/webdriver/Errors.jsm:192:5\n",
      "NoSuchElementError@chrome://remote/content/shared/webdriver/Errors.jsm:404:5\n",
      "element.find/</<@chrome://remote/content/marionette/element.js:291:16\n",
      "\n",
      "Message: Unable to locate element: //*[@id=\"view_20\"]/div[2]/table\n",
      "Stacktrace:\n",
      "RemoteError@chrome://remote/content/shared/RemoteError.jsm:12:1\n",
      "WebDriverError@chrome://remote/content/shared/webdriver/Errors.jsm:192:5\n",
      "NoSuchElementError@chrome://remote/content/shared/webdriver/Errors.jsm:404:5\n",
      "element.find/</<@chrome://remote/content/marionette/element.js:291:16\n",
      "\n",
      "[18, 85]\n"
     ]
    },
    {
     "data": {
      "application/vnd.jupyter.widget-view+json": {
       "model_id": "282eaa46c0b9440f949aa3105e26d741",
       "version_major": 2,
       "version_minor": 0
      },
      "text/plain": [
       "  0%|          | 0/2 [00:00<?, ?it/s]"
      ]
     },
     "metadata": {},
     "output_type": "display_data"
    },
    {
     "name": "stdout",
     "output_type": "stream",
     "text": [
      "Message: Unable to locate element: //*[@id=\"view_20\"]/div[2]/table\n",
      "Stacktrace:\n",
      "RemoteError@chrome://remote/content/shared/RemoteError.jsm:12:1\n",
      "WebDriverError@chrome://remote/content/shared/webdriver/Errors.jsm:192:5\n",
      "NoSuchElementError@chrome://remote/content/shared/webdriver/Errors.jsm:404:5\n",
      "element.find/</<@chrome://remote/content/marionette/element.js:291:16\n",
      "\n",
      "[18]\n"
     ]
    },
    {
     "data": {
      "application/vnd.jupyter.widget-view+json": {
       "model_id": "425202becf3a43a3af14b8e8128105a4",
       "version_major": 2,
       "version_minor": 0
      },
      "text/plain": [
       "  0%|          | 0/1 [00:00<?, ?it/s]"
      ]
     },
     "metadata": {},
     "output_type": "display_data"
    },
    {
     "name": "stdout",
     "output_type": "stream",
     "text": [
      "[]\n"
     ]
    }
   ],
   "source": [
    "while len(cache) > 0:\n",
    "    for page in tqdm(cache):\n",
    "        try:\n",
    "            with webdriver.Firefox() as driver:\n",
    "                driver.get(f\"https://madison.com/uw-salary-database/html_e37ff025-9a87-5a31-91ea-b2eb50aba4cb.html#2018-uw-salaries/?view_20_page={page}&view_20_filters=%5B%7B%22field%22:%22field_106%22,%22operator%22:%22is%22,%22value%22:%22UW%20Madison%22%7D%5D&view_20_sort=field_107%7Cdesc&view_20_per_page=1000\")\n",
    "                table = driver.find_element(By.XPATH, '//*[@id=\"view_20\"]/div[2]/table')\n",
    "                table_html = table.get_attribute(\"outerHTML\")\n",
    "                df = pd.read_html(StringIO(table_html))[0]\n",
    "                df.to_csv(f\"../../data/cache/forbidden{page}.csv\", index = False)\n",
    "                cache.remove(page)\n",
    "        except Exception as ex:\n",
    "            print(ex)\n",
    "            continue\n",
    "    print(cache)"
   ]
  },
  {
   "cell_type": "code",
   "execution_count": 395,
   "id": "42251b35",
   "metadata": {},
   "outputs": [
    {
     "data": {
      "text/html": [
       "<div>\n",
       "<style scoped>\n",
       "    .dataframe tbody tr th:only-of-type {\n",
       "        vertical-align: middle;\n",
       "    }\n",
       "\n",
       "    .dataframe tbody tr th {\n",
       "        vertical-align: top;\n",
       "    }\n",
       "\n",
       "    .dataframe thead th {\n",
       "        text-align: right;\n",
       "    }\n",
       "</style>\n",
       "<table border=\"1\" class=\"dataframe\">\n",
       "  <thead>\n",
       "    <tr style=\"text-align: right;\">\n",
       "      <th></th>\n",
       "      <th>Fiscal year</th>\n",
       "      <th>Name</th>\n",
       "      <th>Title</th>\n",
       "      <th>Dept Description</th>\n",
       "      <th>Campus</th>\n",
       "      <th>Start Date</th>\n",
       "      <th>Total Pay</th>\n",
       "      <th>Details</th>\n",
       "    </tr>\n",
       "  </thead>\n",
       "  <tbody>\n",
       "    <tr>\n",
       "      <th>0</th>\n",
       "      <td>2021</td>\n",
       "      <td>Shaun Aakre</td>\n",
       "      <td>Lecturer</td>\n",
       "      <td>Engr/Engr Prof Development</td>\n",
       "      <td>UW Madison</td>\n",
       "      <td>09/06/2015</td>\n",
       "      <td>$15,679.64</td>\n",
       "      <td>view</td>\n",
       "    </tr>\n",
       "    <tr>\n",
       "      <th>1</th>\n",
       "      <td>2021</td>\n",
       "      <td>Lisa Aarli</td>\n",
       "      <td>Sr Advisor</td>\n",
       "      <td>L&amp;S/Journ &amp; Mass Com/Jn &amp; Mass</td>\n",
       "      <td>UW Madison</td>\n",
       "      <td>01/01/2007</td>\n",
       "      <td>$75,249.16</td>\n",
       "      <td>view</td>\n",
       "    </tr>\n",
       "    <tr>\n",
       "      <th>2</th>\n",
       "      <td>2021</td>\n",
       "      <td>Matthew Aaroen</td>\n",
       "      <td>Custodian</td>\n",
       "      <td>Fp&amp;M/Pp Svcs/Custodial</td>\n",
       "      <td>UW Madison</td>\n",
       "      <td>03/02/2020</td>\n",
       "      <td>$28,681.45</td>\n",
       "      <td>view</td>\n",
       "    </tr>\n",
       "    <tr>\n",
       "      <th>3</th>\n",
       "      <td>2021</td>\n",
       "      <td>Leslie Abadie</td>\n",
       "      <td>Sr Student Serv Coord</td>\n",
       "      <td>L&amp;S/History/History</td>\n",
       "      <td>UW Madison</td>\n",
       "      <td>05/07/2007</td>\n",
       "      <td>$70,840.50</td>\n",
       "      <td>view</td>\n",
       "    </tr>\n",
       "    <tr>\n",
       "      <th>4</th>\n",
       "      <td>2021</td>\n",
       "      <td>Salmafatima Abadin</td>\n",
       "      <td>Asst Researcher</td>\n",
       "      <td>Smph/Pop Health Inst/Phi</td>\n",
       "      <td>UW Madison</td>\n",
       "      <td>01/02/2018</td>\n",
       "      <td>$67,723.54</td>\n",
       "      <td>view</td>\n",
       "    </tr>\n",
       "    <tr>\n",
       "      <th>...</th>\n",
       "      <td>...</td>\n",
       "      <td>...</td>\n",
       "      <td>...</td>\n",
       "      <td>...</td>\n",
       "      <td>...</td>\n",
       "      <td>...</td>\n",
       "      <td>...</td>\n",
       "      <td>...</td>\n",
       "    </tr>\n",
       "    <tr>\n",
       "      <th>995</th>\n",
       "      <td>2021</td>\n",
       "      <td>Amy Basel</td>\n",
       "      <td>Univ Services Assoc 2</td>\n",
       "      <td>L&amp;S/Social Work/Soc Work</td>\n",
       "      <td>UW Madison</td>\n",
       "      <td>04/07/2013</td>\n",
       "      <td>$42,842.45</td>\n",
       "      <td>view</td>\n",
       "    </tr>\n",
       "    <tr>\n",
       "      <th>996</th>\n",
       "      <td>2021</td>\n",
       "      <td>Arash Bashirullah</td>\n",
       "      <td>Associate Professor</td>\n",
       "      <td>Pharm/Pharmacy</td>\n",
       "      <td>UW Madison</td>\n",
       "      <td>07/28/2007</td>\n",
       "      <td>$164,070.53</td>\n",
       "      <td>view</td>\n",
       "    </tr>\n",
       "    <tr>\n",
       "      <th>997</th>\n",
       "      <td>2021</td>\n",
       "      <td>Mustafa Baskaya</td>\n",
       "      <td>Professor</td>\n",
       "      <td>Smph/Neuro Surg/Neuro Surg</td>\n",
       "      <td>UW Madison</td>\n",
       "      <td>01/01/2006</td>\n",
       "      <td>$90,184.02</td>\n",
       "      <td>view</td>\n",
       "    </tr>\n",
       "    <tr>\n",
       "      <th>998</th>\n",
       "      <td>2021</td>\n",
       "      <td>Matthew Basler</td>\n",
       "      <td>Assoc Outreach Spec</td>\n",
       "      <td>Educ/Wcer</td>\n",
       "      <td>UW Madison</td>\n",
       "      <td>08/22/2009</td>\n",
       "      <td>$42,872.46</td>\n",
       "      <td>view</td>\n",
       "    </tr>\n",
       "    <tr>\n",
       "      <th>999</th>\n",
       "      <td>2021</td>\n",
       "      <td>Suraj Basnet</td>\n",
       "      <td>Custodian</td>\n",
       "      <td>Fp&amp;M/Pp Svcs/Custodial</td>\n",
       "      <td>UW Madison</td>\n",
       "      <td>05/16/2016</td>\n",
       "      <td>$30,889.13</td>\n",
       "      <td>view</td>\n",
       "    </tr>\n",
       "  </tbody>\n",
       "</table>\n",
       "<p>1000 rows × 8 columns</p>\n",
       "</div>"
      ],
      "text/plain": [
       "     Fiscal year                Name                  Title  \\\n",
       "0           2021         Shaun Aakre               Lecturer   \n",
       "1           2021          Lisa Aarli             Sr Advisor   \n",
       "2           2021      Matthew Aaroen              Custodian   \n",
       "3           2021       Leslie Abadie  Sr Student Serv Coord   \n",
       "4           2021  Salmafatima Abadin        Asst Researcher   \n",
       "..           ...                 ...                    ...   \n",
       "995         2021           Amy Basel  Univ Services Assoc 2   \n",
       "996         2021   Arash Bashirullah    Associate Professor   \n",
       "997         2021     Mustafa Baskaya              Professor   \n",
       "998         2021      Matthew Basler    Assoc Outreach Spec   \n",
       "999         2021        Suraj Basnet              Custodian   \n",
       "\n",
       "                   Dept Description      Campus  Start Date    Total Pay  \\\n",
       "0        Engr/Engr Prof Development  UW Madison  09/06/2015   $15,679.64   \n",
       "1    L&S/Journ & Mass Com/Jn & Mass  UW Madison  01/01/2007   $75,249.16   \n",
       "2            Fp&M/Pp Svcs/Custodial  UW Madison  03/02/2020   $28,681.45   \n",
       "3               L&S/History/History  UW Madison  05/07/2007   $70,840.50   \n",
       "4          Smph/Pop Health Inst/Phi  UW Madison  01/02/2018   $67,723.54   \n",
       "..                              ...         ...         ...          ...   \n",
       "995        L&S/Social Work/Soc Work  UW Madison  04/07/2013   $42,842.45   \n",
       "996                  Pharm/Pharmacy  UW Madison  07/28/2007  $164,070.53   \n",
       "997      Smph/Neuro Surg/Neuro Surg  UW Madison  01/01/2006   $90,184.02   \n",
       "998                       Educ/Wcer  UW Madison  08/22/2009   $42,872.46   \n",
       "999          Fp&M/Pp Svcs/Custodial  UW Madison  05/16/2016   $30,889.13   \n",
       "\n",
       "    Details  \n",
       "0      view  \n",
       "1      view  \n",
       "2      view  \n",
       "3      view  \n",
       "4      view  \n",
       "..      ...  \n",
       "995    view  \n",
       "996    view  \n",
       "997    view  \n",
       "998    view  \n",
       "999    view  \n",
       "\n",
       "[1000 rows x 8 columns]"
      ]
     },
     "execution_count": 395,
     "metadata": {},
     "output_type": "execute_result"
    }
   ],
   "source": [
    "pd.read_html(StringIO(table_html))[0]"
   ]
  },
  {
   "cell_type": "markdown",
   "id": "18458174",
   "metadata": {},
   "source": [
    "## 2 Dask 2 furious"
   ]
  },
  {
   "cell_type": "code",
   "execution_count": 403,
   "id": "6ff30565",
   "metadata": {},
   "outputs": [],
   "source": [
    "import dask.dataframe as dd\n",
    "from dask.diagnostics import ProgressBar"
   ]
  },
  {
   "cell_type": "code",
   "execution_count": 401,
   "id": "6928bbc6",
   "metadata": {},
   "outputs": [],
   "source": [
    "forbidden = dd.read_csv(\"../../data/cache/forbidden*.csv\")"
   ]
  },
  {
   "cell_type": "code",
   "execution_count": 402,
   "id": "730e78d8",
   "metadata": {},
   "outputs": [
    {
     "data": {
      "text/html": [
       "<div><strong>Dask DataFrame Structure:</strong></div>\n",
       "<div>\n",
       "<style scoped>\n",
       "    .dataframe tbody tr th:only-of-type {\n",
       "        vertical-align: middle;\n",
       "    }\n",
       "\n",
       "    .dataframe tbody tr th {\n",
       "        vertical-align: top;\n",
       "    }\n",
       "\n",
       "    .dataframe thead th {\n",
       "        text-align: right;\n",
       "    }\n",
       "</style>\n",
       "<table border=\"1\" class=\"dataframe\">\n",
       "  <thead>\n",
       "    <tr style=\"text-align: right;\">\n",
       "      <th></th>\n",
       "      <th>Fiscal year</th>\n",
       "      <th>Name</th>\n",
       "      <th>Title</th>\n",
       "      <th>Dept Description</th>\n",
       "      <th>Campus</th>\n",
       "      <th>Start Date</th>\n",
       "      <th>Total Pay</th>\n",
       "      <th>Details</th>\n",
       "    </tr>\n",
       "    <tr>\n",
       "      <th>npartitions=114</th>\n",
       "      <th></th>\n",
       "      <th></th>\n",
       "      <th></th>\n",
       "      <th></th>\n",
       "      <th></th>\n",
       "      <th></th>\n",
       "      <th></th>\n",
       "      <th></th>\n",
       "    </tr>\n",
       "  </thead>\n",
       "  <tbody>\n",
       "    <tr>\n",
       "      <th></th>\n",
       "      <td>int64</td>\n",
       "      <td>object</td>\n",
       "      <td>object</td>\n",
       "      <td>object</td>\n",
       "      <td>object</td>\n",
       "      <td>object</td>\n",
       "      <td>object</td>\n",
       "      <td>object</td>\n",
       "    </tr>\n",
       "    <tr>\n",
       "      <th></th>\n",
       "      <td>...</td>\n",
       "      <td>...</td>\n",
       "      <td>...</td>\n",
       "      <td>...</td>\n",
       "      <td>...</td>\n",
       "      <td>...</td>\n",
       "      <td>...</td>\n",
       "      <td>...</td>\n",
       "    </tr>\n",
       "    <tr>\n",
       "      <th>...</th>\n",
       "      <td>...</td>\n",
       "      <td>...</td>\n",
       "      <td>...</td>\n",
       "      <td>...</td>\n",
       "      <td>...</td>\n",
       "      <td>...</td>\n",
       "      <td>...</td>\n",
       "      <td>...</td>\n",
       "    </tr>\n",
       "    <tr>\n",
       "      <th></th>\n",
       "      <td>...</td>\n",
       "      <td>...</td>\n",
       "      <td>...</td>\n",
       "      <td>...</td>\n",
       "      <td>...</td>\n",
       "      <td>...</td>\n",
       "      <td>...</td>\n",
       "      <td>...</td>\n",
       "    </tr>\n",
       "    <tr>\n",
       "      <th></th>\n",
       "      <td>...</td>\n",
       "      <td>...</td>\n",
       "      <td>...</td>\n",
       "      <td>...</td>\n",
       "      <td>...</td>\n",
       "      <td>...</td>\n",
       "      <td>...</td>\n",
       "      <td>...</td>\n",
       "    </tr>\n",
       "  </tbody>\n",
       "</table>\n",
       "</div>\n",
       "<div>Dask Name: read-csv, 114 tasks</div>"
      ],
      "text/plain": [
       "Dask DataFrame Structure:\n",
       "                Fiscal year    Name   Title Dept Description  Campus Start Date Total Pay Details\n",
       "npartitions=114                                                                                  \n",
       "                      int64  object  object           object  object     object    object  object\n",
       "                        ...     ...     ...              ...     ...        ...       ...     ...\n",
       "...                     ...     ...     ...              ...     ...        ...       ...     ...\n",
       "                        ...     ...     ...              ...     ...        ...       ...     ...\n",
       "                        ...     ...     ...              ...     ...        ...       ...     ...\n",
       "Dask Name: read-csv, 114 tasks"
      ]
     },
     "execution_count": 402,
     "metadata": {},
     "output_type": "execute_result"
    }
   ],
   "source": [
    "forbidden"
   ]
  },
  {
   "cell_type": "code",
   "execution_count": 404,
   "id": "cc70d6a5",
   "metadata": {},
   "outputs": [
    {
     "name": "stdout",
     "output_type": "stream",
     "text": [
      "[########################################] | 100% Completed | 872.81 ms\n"
     ]
    }
   ],
   "source": [
    "with ProgressBar():\n",
    "    all_forbidden = forbidden.compute()"
   ]
  },
  {
   "cell_type": "code",
   "execution_count": 407,
   "id": "5aa2d99a",
   "metadata": {},
   "outputs": [
    {
     "data": {
      "text/html": [
       "<div>\n",
       "<style scoped>\n",
       "    .dataframe tbody tr th:only-of-type {\n",
       "        vertical-align: middle;\n",
       "    }\n",
       "\n",
       "    .dataframe tbody tr th {\n",
       "        vertical-align: top;\n",
       "    }\n",
       "\n",
       "    .dataframe thead th {\n",
       "        text-align: right;\n",
       "    }\n",
       "</style>\n",
       "<table border=\"1\" class=\"dataframe\">\n",
       "  <thead>\n",
       "    <tr style=\"text-align: right;\">\n",
       "      <th></th>\n",
       "      <th>Fiscal year</th>\n",
       "      <th>Name</th>\n",
       "      <th>Title</th>\n",
       "      <th>Dept Description</th>\n",
       "      <th>Campus</th>\n",
       "      <th>Start Date</th>\n",
       "      <th>Total Pay</th>\n",
       "      <th>Details</th>\n",
       "    </tr>\n",
       "  </thead>\n",
       "  <tbody>\n",
       "    <tr>\n",
       "      <th>0</th>\n",
       "      <td>2021</td>\n",
       "      <td>Shaun Aakre</td>\n",
       "      <td>Lecturer</td>\n",
       "      <td>Engr/Engr Prof Development</td>\n",
       "      <td>UW Madison</td>\n",
       "      <td>09/06/2015</td>\n",
       "      <td>$15,679.64</td>\n",
       "      <td>view</td>\n",
       "    </tr>\n",
       "    <tr>\n",
       "      <th>1</th>\n",
       "      <td>2021</td>\n",
       "      <td>Lisa Aarli</td>\n",
       "      <td>Sr Advisor</td>\n",
       "      <td>L&amp;S/Journ &amp; Mass Com/Jn &amp; Mass</td>\n",
       "      <td>UW Madison</td>\n",
       "      <td>01/01/2007</td>\n",
       "      <td>$75,249.16</td>\n",
       "      <td>view</td>\n",
       "    </tr>\n",
       "    <tr>\n",
       "      <th>2</th>\n",
       "      <td>2021</td>\n",
       "      <td>Matthew Aaroen</td>\n",
       "      <td>Custodian</td>\n",
       "      <td>Fp&amp;M/Pp Svcs/Custodial</td>\n",
       "      <td>UW Madison</td>\n",
       "      <td>03/02/2020</td>\n",
       "      <td>$28,681.45</td>\n",
       "      <td>view</td>\n",
       "    </tr>\n",
       "    <tr>\n",
       "      <th>3</th>\n",
       "      <td>2021</td>\n",
       "      <td>Leslie Abadie</td>\n",
       "      <td>Sr Student Serv Coord</td>\n",
       "      <td>L&amp;S/History/History</td>\n",
       "      <td>UW Madison</td>\n",
       "      <td>05/07/2007</td>\n",
       "      <td>$70,840.50</td>\n",
       "      <td>view</td>\n",
       "    </tr>\n",
       "    <tr>\n",
       "      <th>4</th>\n",
       "      <td>2021</td>\n",
       "      <td>Salmafatima Abadin</td>\n",
       "      <td>Asst Researcher</td>\n",
       "      <td>Smph/Pop Health Inst/Phi</td>\n",
       "      <td>UW Madison</td>\n",
       "      <td>01/02/2018</td>\n",
       "      <td>$67,723.54</td>\n",
       "      <td>view</td>\n",
       "    </tr>\n",
       "    <tr>\n",
       "      <th>...</th>\n",
       "      <td>...</td>\n",
       "      <td>...</td>\n",
       "      <td>...</td>\n",
       "      <td>...</td>\n",
       "      <td>...</td>\n",
       "      <td>...</td>\n",
       "      <td>...</td>\n",
       "      <td>...</td>\n",
       "    </tr>\n",
       "    <tr>\n",
       "      <th>995</th>\n",
       "      <td>2017</td>\n",
       "      <td>Lee Duong</td>\n",
       "      <td>Is Network Sup Tech S</td>\n",
       "      <td>Cals/Comm &amp; Environ Soc</td>\n",
       "      <td>UW Madison</td>\n",
       "      <td>07/01/2015</td>\n",
       "      <td>$22,335.31</td>\n",
       "      <td>view</td>\n",
       "    </tr>\n",
       "    <tr>\n",
       "      <th>996</th>\n",
       "      <td>2017</td>\n",
       "      <td>Andrew Duplissis</td>\n",
       "      <td>Univ Services Assoc 2</td>\n",
       "      <td>Smph/Radiology/Radiology</td>\n",
       "      <td>UW Madison</td>\n",
       "      <td>08/26/2013</td>\n",
       "      <td>$3,050.56</td>\n",
       "      <td>view</td>\n",
       "    </tr>\n",
       "    <tr>\n",
       "      <th>997</th>\n",
       "      <td>2017</td>\n",
       "      <td>Katherine Duren</td>\n",
       "      <td>Associate Dean/M</td>\n",
       "      <td>Educational Innovation</td>\n",
       "      <td>UW Madison</td>\n",
       "      <td>11/13/2000</td>\n",
       "      <td>$101,562.98</td>\n",
       "      <td>view</td>\n",
       "    </tr>\n",
       "    <tr>\n",
       "      <th>998</th>\n",
       "      <td>2017</td>\n",
       "      <td>Kim Duren</td>\n",
       "      <td>Hvac/Refrig Spec-Adv</td>\n",
       "      <td>Fp&amp;M/Pp Shops/Maint Mech</td>\n",
       "      <td>UW Madison</td>\n",
       "      <td>10/26/1981</td>\n",
       "      <td>$52,549.37</td>\n",
       "      <td>view</td>\n",
       "    </tr>\n",
       "    <tr>\n",
       "      <th>999</th>\n",
       "      <td>2017</td>\n",
       "      <td>Dawn Duren</td>\n",
       "      <td>Is Resourc Sup Tech S</td>\n",
       "      <td>L&amp;S/Rsch-Social Sci/Irp-Gen</td>\n",
       "      <td>UW Madison</td>\n",
       "      <td>05/06/1985</td>\n",
       "      <td>$44,565.39</td>\n",
       "      <td>view</td>\n",
       "    </tr>\n",
       "  </tbody>\n",
       "</table>\n",
       "<p>113050 rows × 8 columns</p>\n",
       "</div>"
      ],
      "text/plain": [
       "     Fiscal year                Name                  Title  \\\n",
       "0           2021         Shaun Aakre               Lecturer   \n",
       "1           2021          Lisa Aarli             Sr Advisor   \n",
       "2           2021      Matthew Aaroen              Custodian   \n",
       "3           2021       Leslie Abadie  Sr Student Serv Coord   \n",
       "4           2021  Salmafatima Abadin        Asst Researcher   \n",
       "..           ...                 ...                    ...   \n",
       "995         2017           Lee Duong  Is Network Sup Tech S   \n",
       "996         2017    Andrew Duplissis  Univ Services Assoc 2   \n",
       "997         2017     Katherine Duren       Associate Dean/M   \n",
       "998         2017           Kim Duren   Hvac/Refrig Spec-Adv   \n",
       "999         2017          Dawn Duren  Is Resourc Sup Tech S   \n",
       "\n",
       "                   Dept Description      Campus  Start Date    Total Pay  \\\n",
       "0        Engr/Engr Prof Development  UW Madison  09/06/2015   $15,679.64   \n",
       "1    L&S/Journ & Mass Com/Jn & Mass  UW Madison  01/01/2007   $75,249.16   \n",
       "2            Fp&M/Pp Svcs/Custodial  UW Madison  03/02/2020   $28,681.45   \n",
       "3               L&S/History/History  UW Madison  05/07/2007   $70,840.50   \n",
       "4          Smph/Pop Health Inst/Phi  UW Madison  01/02/2018   $67,723.54   \n",
       "..                              ...         ...         ...          ...   \n",
       "995         Cals/Comm & Environ Soc  UW Madison  07/01/2015   $22,335.31   \n",
       "996        Smph/Radiology/Radiology  UW Madison  08/26/2013    $3,050.56   \n",
       "997          Educational Innovation  UW Madison  11/13/2000  $101,562.98   \n",
       "998        Fp&M/Pp Shops/Maint Mech  UW Madison  10/26/1981   $52,549.37   \n",
       "999     L&S/Rsch-Social Sci/Irp-Gen  UW Madison  05/06/1985   $44,565.39   \n",
       "\n",
       "    Details  \n",
       "0      view  \n",
       "1      view  \n",
       "2      view  \n",
       "3      view  \n",
       "4      view  \n",
       "..      ...  \n",
       "995    view  \n",
       "996    view  \n",
       "997    view  \n",
       "998    view  \n",
       "999    view  \n",
       "\n",
       "[113050 rows x 8 columns]"
      ]
     },
     "execution_count": 407,
     "metadata": {},
     "output_type": "execute_result"
    }
   ],
   "source": [
    "all_forbidden"
   ]
  },
  {
   "cell_type": "code",
   "execution_count": 406,
   "id": "d6ac0ec4",
   "metadata": {},
   "outputs": [],
   "source": [
    "all_forbidden.to_csv(f\"../../data/forbidden.csv\", index = False)"
   ]
  },
  {
   "cell_type": "code",
   "execution_count": null,
   "id": "7ab4dc1f",
   "metadata": {},
   "outputs": [],
   "source": []
  },
  {
   "cell_type": "code",
   "execution_count": null,
   "id": "65848c25",
   "metadata": {},
   "outputs": [],
   "source": []
  }
 ],
 "metadata": {
  "kernelspec": {
   "display_name": "forbidden",
   "language": "python",
   "name": "forbidden"
  },
  "language_info": {
   "codemirror_mode": {
    "name": "ipython",
    "version": 3
   },
   "file_extension": ".py",
   "mimetype": "text/x-python",
   "name": "python",
   "nbconvert_exporter": "python",
   "pygments_lexer": "ipython3",
   "version": "3.9.7"
  }
 },
 "nbformat": 4,
 "nbformat_minor": 5
}
